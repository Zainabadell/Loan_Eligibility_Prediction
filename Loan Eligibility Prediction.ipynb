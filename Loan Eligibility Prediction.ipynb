{
  "cells": [
    {
      "cell_type": "code",
      "execution_count": null,
      "metadata": {
        "id": "CUglgyne6lHl"
      },
      "outputs": [],
      "source": [
        "import pandas as pd\n",
        "import numpy as np\n",
        "import matplotlib.pyplot as plt\n",
        "import seaborn as sns\n",
        "\n",
        "\n",
        "%matplotlib inline"
      ]
    },
    {
      "cell_type": "code",
      "execution_count": null,
      "metadata": {
        "id": "aKNtOintBO4N",
        "outputId": "2e0fb419-4783-46c5-9c55-a51a2f5db24b",
        "colab": {
          "base_uri": "https://localhost:8080/",
          "height": 304
        }
      },
      "outputs": [
        {
          "output_type": "error",
          "ename": "FileNotFoundError",
          "evalue": "[Errno 2] No such file or directory: '/ElecDeviceRatingPrediction.csv'",
          "traceback": [
            "\u001b[0;31m---------------------------------------------------------------------------\u001b[0m",
            "\u001b[0;31mFileNotFoundError\u001b[0m                         Traceback (most recent call last)",
            "\u001b[0;32m<ipython-input-2-37963dc7e555>\u001b[0m in \u001b[0;36m<cell line: 1>\u001b[0;34m()\u001b[0m\n\u001b[0;32m----> 1\u001b[0;31m \u001b[0mdata\u001b[0m\u001b[0;34m=\u001b[0m\u001b[0mpd\u001b[0m\u001b[0;34m.\u001b[0m\u001b[0mread_csv\u001b[0m\u001b[0;34m(\u001b[0m\u001b[0;34m\"/ElecDeviceRatingPrediction.csv\"\u001b[0m\u001b[0;34m)\u001b[0m\u001b[0;34m\u001b[0m\u001b[0;34m\u001b[0m\u001b[0m\n\u001b[0m",
            "\u001b[0;32m/usr/local/lib/python3.10/dist-packages/pandas/io/parsers/readers.py\u001b[0m in \u001b[0;36mread_csv\u001b[0;34m(filepath_or_buffer, sep, delimiter, header, names, index_col, usecols, dtype, engine, converters, true_values, false_values, skipinitialspace, skiprows, skipfooter, nrows, na_values, keep_default_na, na_filter, verbose, skip_blank_lines, parse_dates, infer_datetime_format, keep_date_col, date_parser, date_format, dayfirst, cache_dates, iterator, chunksize, compression, thousands, decimal, lineterminator, quotechar, quoting, doublequote, escapechar, comment, encoding, encoding_errors, dialect, on_bad_lines, delim_whitespace, low_memory, memory_map, float_precision, storage_options, dtype_backend)\u001b[0m\n\u001b[1;32m    910\u001b[0m     \u001b[0mkwds\u001b[0m\u001b[0;34m.\u001b[0m\u001b[0mupdate\u001b[0m\u001b[0;34m(\u001b[0m\u001b[0mkwds_defaults\u001b[0m\u001b[0;34m)\u001b[0m\u001b[0;34m\u001b[0m\u001b[0;34m\u001b[0m\u001b[0m\n\u001b[1;32m    911\u001b[0m \u001b[0;34m\u001b[0m\u001b[0m\n\u001b[0;32m--> 912\u001b[0;31m     \u001b[0;32mreturn\u001b[0m \u001b[0m_read\u001b[0m\u001b[0;34m(\u001b[0m\u001b[0mfilepath_or_buffer\u001b[0m\u001b[0;34m,\u001b[0m \u001b[0mkwds\u001b[0m\u001b[0;34m)\u001b[0m\u001b[0;34m\u001b[0m\u001b[0;34m\u001b[0m\u001b[0m\n\u001b[0m\u001b[1;32m    913\u001b[0m \u001b[0;34m\u001b[0m\u001b[0m\n\u001b[1;32m    914\u001b[0m \u001b[0;34m\u001b[0m\u001b[0m\n",
            "\u001b[0;32m/usr/local/lib/python3.10/dist-packages/pandas/io/parsers/readers.py\u001b[0m in \u001b[0;36m_read\u001b[0;34m(filepath_or_buffer, kwds)\u001b[0m\n\u001b[1;32m    575\u001b[0m \u001b[0;34m\u001b[0m\u001b[0m\n\u001b[1;32m    576\u001b[0m     \u001b[0;31m# Create the parser.\u001b[0m\u001b[0;34m\u001b[0m\u001b[0;34m\u001b[0m\u001b[0m\n\u001b[0;32m--> 577\u001b[0;31m     \u001b[0mparser\u001b[0m \u001b[0;34m=\u001b[0m \u001b[0mTextFileReader\u001b[0m\u001b[0;34m(\u001b[0m\u001b[0mfilepath_or_buffer\u001b[0m\u001b[0;34m,\u001b[0m \u001b[0;34m**\u001b[0m\u001b[0mkwds\u001b[0m\u001b[0;34m)\u001b[0m\u001b[0;34m\u001b[0m\u001b[0;34m\u001b[0m\u001b[0m\n\u001b[0m\u001b[1;32m    578\u001b[0m \u001b[0;34m\u001b[0m\u001b[0m\n\u001b[1;32m    579\u001b[0m     \u001b[0;32mif\u001b[0m \u001b[0mchunksize\u001b[0m \u001b[0;32mor\u001b[0m \u001b[0miterator\u001b[0m\u001b[0;34m:\u001b[0m\u001b[0;34m\u001b[0m\u001b[0;34m\u001b[0m\u001b[0m\n",
            "\u001b[0;32m/usr/local/lib/python3.10/dist-packages/pandas/io/parsers/readers.py\u001b[0m in \u001b[0;36m__init__\u001b[0;34m(self, f, engine, **kwds)\u001b[0m\n\u001b[1;32m   1405\u001b[0m \u001b[0;34m\u001b[0m\u001b[0m\n\u001b[1;32m   1406\u001b[0m         \u001b[0mself\u001b[0m\u001b[0;34m.\u001b[0m\u001b[0mhandles\u001b[0m\u001b[0;34m:\u001b[0m \u001b[0mIOHandles\u001b[0m \u001b[0;34m|\u001b[0m \u001b[0;32mNone\u001b[0m \u001b[0;34m=\u001b[0m \u001b[0;32mNone\u001b[0m\u001b[0;34m\u001b[0m\u001b[0;34m\u001b[0m\u001b[0m\n\u001b[0;32m-> 1407\u001b[0;31m         \u001b[0mself\u001b[0m\u001b[0;34m.\u001b[0m\u001b[0m_engine\u001b[0m \u001b[0;34m=\u001b[0m \u001b[0mself\u001b[0m\u001b[0;34m.\u001b[0m\u001b[0m_make_engine\u001b[0m\u001b[0;34m(\u001b[0m\u001b[0mf\u001b[0m\u001b[0;34m,\u001b[0m \u001b[0mself\u001b[0m\u001b[0;34m.\u001b[0m\u001b[0mengine\u001b[0m\u001b[0;34m)\u001b[0m\u001b[0;34m\u001b[0m\u001b[0;34m\u001b[0m\u001b[0m\n\u001b[0m\u001b[1;32m   1408\u001b[0m \u001b[0;34m\u001b[0m\u001b[0m\n\u001b[1;32m   1409\u001b[0m     \u001b[0;32mdef\u001b[0m \u001b[0mclose\u001b[0m\u001b[0;34m(\u001b[0m\u001b[0mself\u001b[0m\u001b[0;34m)\u001b[0m \u001b[0;34m->\u001b[0m \u001b[0;32mNone\u001b[0m\u001b[0;34m:\u001b[0m\u001b[0;34m\u001b[0m\u001b[0;34m\u001b[0m\u001b[0m\n",
            "\u001b[0;32m/usr/local/lib/python3.10/dist-packages/pandas/io/parsers/readers.py\u001b[0m in \u001b[0;36m_make_engine\u001b[0;34m(self, f, engine)\u001b[0m\n\u001b[1;32m   1659\u001b[0m                 \u001b[0;32mif\u001b[0m \u001b[0;34m\"b\"\u001b[0m \u001b[0;32mnot\u001b[0m \u001b[0;32min\u001b[0m \u001b[0mmode\u001b[0m\u001b[0;34m:\u001b[0m\u001b[0;34m\u001b[0m\u001b[0;34m\u001b[0m\u001b[0m\n\u001b[1;32m   1660\u001b[0m                     \u001b[0mmode\u001b[0m \u001b[0;34m+=\u001b[0m \u001b[0;34m\"b\"\u001b[0m\u001b[0;34m\u001b[0m\u001b[0;34m\u001b[0m\u001b[0m\n\u001b[0;32m-> 1661\u001b[0;31m             self.handles = get_handle(\n\u001b[0m\u001b[1;32m   1662\u001b[0m                 \u001b[0mf\u001b[0m\u001b[0;34m,\u001b[0m\u001b[0;34m\u001b[0m\u001b[0;34m\u001b[0m\u001b[0m\n\u001b[1;32m   1663\u001b[0m                 \u001b[0mmode\u001b[0m\u001b[0;34m,\u001b[0m\u001b[0;34m\u001b[0m\u001b[0;34m\u001b[0m\u001b[0m\n",
            "\u001b[0;32m/usr/local/lib/python3.10/dist-packages/pandas/io/common.py\u001b[0m in \u001b[0;36mget_handle\u001b[0;34m(path_or_buf, mode, encoding, compression, memory_map, is_text, errors, storage_options)\u001b[0m\n\u001b[1;32m    857\u001b[0m         \u001b[0;32mif\u001b[0m \u001b[0mioargs\u001b[0m\u001b[0;34m.\u001b[0m\u001b[0mencoding\u001b[0m \u001b[0;32mand\u001b[0m \u001b[0;34m\"b\"\u001b[0m \u001b[0;32mnot\u001b[0m \u001b[0;32min\u001b[0m \u001b[0mioargs\u001b[0m\u001b[0;34m.\u001b[0m\u001b[0mmode\u001b[0m\u001b[0;34m:\u001b[0m\u001b[0;34m\u001b[0m\u001b[0;34m\u001b[0m\u001b[0m\n\u001b[1;32m    858\u001b[0m             \u001b[0;31m# Encoding\u001b[0m\u001b[0;34m\u001b[0m\u001b[0;34m\u001b[0m\u001b[0m\n\u001b[0;32m--> 859\u001b[0;31m             handle = open(\n\u001b[0m\u001b[1;32m    860\u001b[0m                 \u001b[0mhandle\u001b[0m\u001b[0;34m,\u001b[0m\u001b[0;34m\u001b[0m\u001b[0;34m\u001b[0m\u001b[0m\n\u001b[1;32m    861\u001b[0m                 \u001b[0mioargs\u001b[0m\u001b[0;34m.\u001b[0m\u001b[0mmode\u001b[0m\u001b[0;34m,\u001b[0m\u001b[0;34m\u001b[0m\u001b[0;34m\u001b[0m\u001b[0m\n",
            "\u001b[0;31mFileNotFoundError\u001b[0m: [Errno 2] No such file or directory: '/ElecDeviceRatingPrediction.csv'"
          ]
        }
      ],
      "source": [
        "data=pd.read_csv(\"/ElecDeviceRatingPrediction.csv\")"
      ]
    },
    {
      "cell_type": "code",
      "source": [
        "data.head()"
      ],
      "metadata": {
        "colab": {
          "base_uri": "https://localhost:8080/",
          "height": 206
        },
        "id": "PD6T3VyEGSoT",
        "outputId": "db3f1ffc-d900-408e-d452-65b5a71245db"
      },
      "execution_count": null,
      "outputs": [
        {
          "output_type": "execute_result",
          "data": {
            "text/plain": [
              "    Loan_ID Gender Married Dependents     Education Self_Employed  \\\n",
              "0  LP001002   Male      No          0      Graduate            No   \n",
              "1  LP001003   Male     Yes          1      Graduate            No   \n",
              "2  LP001005   Male     Yes          0      Graduate           Yes   \n",
              "3  LP001006   Male     Yes          0  Not Graduate            No   \n",
              "4  LP001008   Male      No          0      Graduate            No   \n",
              "\n",
              "   ApplicantIncome  CoapplicantIncome  LoanAmount  Loan_Amount_Term  \\\n",
              "0             5849                0.0         NaN             360.0   \n",
              "1             4583             1508.0       128.0             360.0   \n",
              "2             3000                0.0        66.0             360.0   \n",
              "3             2583             2358.0       120.0             360.0   \n",
              "4             6000                0.0       141.0             360.0   \n",
              "\n",
              "   Credit_History Property_Area Loan_Status  \n",
              "0             1.0         Urban           Y  \n",
              "1             1.0         Rural           N  \n",
              "2             1.0         Urban           Y  \n",
              "3             1.0         Urban           Y  \n",
              "4             1.0         Urban           Y  "
            ],
            "text/html": [
              "\n",
              "  <div id=\"df-e967055e-351a-44ce-87bc-83cd67a70ab5\">\n",
              "    <div class=\"colab-df-container\">\n",
              "      <div>\n",
              "<style scoped>\n",
              "    .dataframe tbody tr th:only-of-type {\n",
              "        vertical-align: middle;\n",
              "    }\n",
              "\n",
              "    .dataframe tbody tr th {\n",
              "        vertical-align: top;\n",
              "    }\n",
              "\n",
              "    .dataframe thead th {\n",
              "        text-align: right;\n",
              "    }\n",
              "</style>\n",
              "<table border=\"1\" class=\"dataframe\">\n",
              "  <thead>\n",
              "    <tr style=\"text-align: right;\">\n",
              "      <th></th>\n",
              "      <th>Loan_ID</th>\n",
              "      <th>Gender</th>\n",
              "      <th>Married</th>\n",
              "      <th>Dependents</th>\n",
              "      <th>Education</th>\n",
              "      <th>Self_Employed</th>\n",
              "      <th>ApplicantIncome</th>\n",
              "      <th>CoapplicantIncome</th>\n",
              "      <th>LoanAmount</th>\n",
              "      <th>Loan_Amount_Term</th>\n",
              "      <th>Credit_History</th>\n",
              "      <th>Property_Area</th>\n",
              "      <th>Loan_Status</th>\n",
              "    </tr>\n",
              "  </thead>\n",
              "  <tbody>\n",
              "    <tr>\n",
              "      <th>0</th>\n",
              "      <td>LP001002</td>\n",
              "      <td>Male</td>\n",
              "      <td>No</td>\n",
              "      <td>0</td>\n",
              "      <td>Graduate</td>\n",
              "      <td>No</td>\n",
              "      <td>5849</td>\n",
              "      <td>0.0</td>\n",
              "      <td>NaN</td>\n",
              "      <td>360.0</td>\n",
              "      <td>1.0</td>\n",
              "      <td>Urban</td>\n",
              "      <td>Y</td>\n",
              "    </tr>\n",
              "    <tr>\n",
              "      <th>1</th>\n",
              "      <td>LP001003</td>\n",
              "      <td>Male</td>\n",
              "      <td>Yes</td>\n",
              "      <td>1</td>\n",
              "      <td>Graduate</td>\n",
              "      <td>No</td>\n",
              "      <td>4583</td>\n",
              "      <td>1508.0</td>\n",
              "      <td>128.0</td>\n",
              "      <td>360.0</td>\n",
              "      <td>1.0</td>\n",
              "      <td>Rural</td>\n",
              "      <td>N</td>\n",
              "    </tr>\n",
              "    <tr>\n",
              "      <th>2</th>\n",
              "      <td>LP001005</td>\n",
              "      <td>Male</td>\n",
              "      <td>Yes</td>\n",
              "      <td>0</td>\n",
              "      <td>Graduate</td>\n",
              "      <td>Yes</td>\n",
              "      <td>3000</td>\n",
              "      <td>0.0</td>\n",
              "      <td>66.0</td>\n",
              "      <td>360.0</td>\n",
              "      <td>1.0</td>\n",
              "      <td>Urban</td>\n",
              "      <td>Y</td>\n",
              "    </tr>\n",
              "    <tr>\n",
              "      <th>3</th>\n",
              "      <td>LP001006</td>\n",
              "      <td>Male</td>\n",
              "      <td>Yes</td>\n",
              "      <td>0</td>\n",
              "      <td>Not Graduate</td>\n",
              "      <td>No</td>\n",
              "      <td>2583</td>\n",
              "      <td>2358.0</td>\n",
              "      <td>120.0</td>\n",
              "      <td>360.0</td>\n",
              "      <td>1.0</td>\n",
              "      <td>Urban</td>\n",
              "      <td>Y</td>\n",
              "    </tr>\n",
              "    <tr>\n",
              "      <th>4</th>\n",
              "      <td>LP001008</td>\n",
              "      <td>Male</td>\n",
              "      <td>No</td>\n",
              "      <td>0</td>\n",
              "      <td>Graduate</td>\n",
              "      <td>No</td>\n",
              "      <td>6000</td>\n",
              "      <td>0.0</td>\n",
              "      <td>141.0</td>\n",
              "      <td>360.0</td>\n",
              "      <td>1.0</td>\n",
              "      <td>Urban</td>\n",
              "      <td>Y</td>\n",
              "    </tr>\n",
              "  </tbody>\n",
              "</table>\n",
              "</div>\n",
              "      <button class=\"colab-df-convert\" onclick=\"convertToInteractive('df-e967055e-351a-44ce-87bc-83cd67a70ab5')\"\n",
              "              title=\"Convert this dataframe to an interactive table.\"\n",
              "              style=\"display:none;\">\n",
              "        \n",
              "  <svg xmlns=\"http://www.w3.org/2000/svg\" height=\"24px\"viewBox=\"0 0 24 24\"\n",
              "       width=\"24px\">\n",
              "    <path d=\"M0 0h24v24H0V0z\" fill=\"none\"/>\n",
              "    <path d=\"M18.56 5.44l.94 2.06.94-2.06 2.06-.94-2.06-.94-.94-2.06-.94 2.06-2.06.94zm-11 1L8.5 8.5l.94-2.06 2.06-.94-2.06-.94L8.5 2.5l-.94 2.06-2.06.94zm10 10l.94 2.06.94-2.06 2.06-.94-2.06-.94-.94-2.06-.94 2.06-2.06.94z\"/><path d=\"M17.41 7.96l-1.37-1.37c-.4-.4-.92-.59-1.43-.59-.52 0-1.04.2-1.43.59L10.3 9.45l-7.72 7.72c-.78.78-.78 2.05 0 2.83L4 21.41c.39.39.9.59 1.41.59.51 0 1.02-.2 1.41-.59l7.78-7.78 2.81-2.81c.8-.78.8-2.07 0-2.86zM5.41 20L4 18.59l7.72-7.72 1.47 1.35L5.41 20z\"/>\n",
              "  </svg>\n",
              "      </button>\n",
              "      \n",
              "  <style>\n",
              "    .colab-df-container {\n",
              "      display:flex;\n",
              "      flex-wrap:wrap;\n",
              "      gap: 12px;\n",
              "    }\n",
              "\n",
              "    .colab-df-convert {\n",
              "      background-color: #E8F0FE;\n",
              "      border: none;\n",
              "      border-radius: 50%;\n",
              "      cursor: pointer;\n",
              "      display: none;\n",
              "      fill: #1967D2;\n",
              "      height: 32px;\n",
              "      padding: 0 0 0 0;\n",
              "      width: 32px;\n",
              "    }\n",
              "\n",
              "    .colab-df-convert:hover {\n",
              "      background-color: #E2EBFA;\n",
              "      box-shadow: 0px 1px 2px rgba(60, 64, 67, 0.3), 0px 1px 3px 1px rgba(60, 64, 67, 0.15);\n",
              "      fill: #174EA6;\n",
              "    }\n",
              "\n",
              "    [theme=dark] .colab-df-convert {\n",
              "      background-color: #3B4455;\n",
              "      fill: #D2E3FC;\n",
              "    }\n",
              "\n",
              "    [theme=dark] .colab-df-convert:hover {\n",
              "      background-color: #434B5C;\n",
              "      box-shadow: 0px 1px 3px 1px rgba(0, 0, 0, 0.15);\n",
              "      filter: drop-shadow(0px 1px 2px rgba(0, 0, 0, 0.3));\n",
              "      fill: #FFFFFF;\n",
              "    }\n",
              "  </style>\n",
              "\n",
              "      <script>\n",
              "        const buttonEl =\n",
              "          document.querySelector('#df-e967055e-351a-44ce-87bc-83cd67a70ab5 button.colab-df-convert');\n",
              "        buttonEl.style.display =\n",
              "          google.colab.kernel.accessAllowed ? 'block' : 'none';\n",
              "\n",
              "        async function convertToInteractive(key) {\n",
              "          const element = document.querySelector('#df-e967055e-351a-44ce-87bc-83cd67a70ab5');\n",
              "          const dataTable =\n",
              "            await google.colab.kernel.invokeFunction('convertToInteractive',\n",
              "                                                     [key], {});\n",
              "          if (!dataTable) return;\n",
              "\n",
              "          const docLinkHtml = 'Like what you see? Visit the ' +\n",
              "            '<a target=\"_blank\" href=https://colab.research.google.com/notebooks/data_table.ipynb>data table notebook</a>'\n",
              "            + ' to learn more about interactive tables.';\n",
              "          element.innerHTML = '';\n",
              "          dataTable['output_type'] = 'display_data';\n",
              "          await google.colab.output.renderOutput(dataTable, element);\n",
              "          const docLink = document.createElement('div');\n",
              "          docLink.innerHTML = docLinkHtml;\n",
              "          element.appendChild(docLink);\n",
              "        }\n",
              "      </script>\n",
              "    </div>\n",
              "  </div>\n",
              "  "
            ]
          },
          "metadata": {},
          "execution_count": 607
        }
      ]
    },
    {
      "cell_type": "code",
      "source": [
        "sum(data.duplicated())==0"
      ],
      "metadata": {
        "colab": {
          "base_uri": "https://localhost:8080/"
        },
        "id": "zags64Y6SK8x",
        "outputId": "787555c9-e4e0-420d-f41b-94d82ed48713"
      },
      "execution_count": null,
      "outputs": [
        {
          "output_type": "execute_result",
          "data": {
            "text/plain": [
              "True"
            ]
          },
          "metadata": {},
          "execution_count": 608
        }
      ]
    },
    {
      "cell_type": "code",
      "source": [
        "print(data.isnull().sum())\n"
      ],
      "metadata": {
        "colab": {
          "base_uri": "https://localhost:8080/"
        },
        "id": "ulQplK0kSl83",
        "outputId": "d10a276e-8297-4885-e963-c2a0e2d07678"
      },
      "execution_count": null,
      "outputs": [
        {
          "output_type": "stream",
          "name": "stdout",
          "text": [
            "Loan_ID               0\n",
            "Gender               13\n",
            "Married               3\n",
            "Dependents           15\n",
            "Education             0\n",
            "Self_Employed        32\n",
            "ApplicantIncome       0\n",
            "CoapplicantIncome     0\n",
            "LoanAmount           22\n",
            "Loan_Amount_Term     14\n",
            "Credit_History       50\n",
            "Property_Area         0\n",
            "Loan_Status           0\n",
            "dtype: int64\n"
          ]
        }
      ]
    },
    {
      "cell_type": "code",
      "source": [
        "'''from sklearn.impute import SimpleImputer\n",
        "# Separate numerical and categorical columns\n",
        "numerical_cols = data.select_dtypes(include='number').columns\n",
        "categorical_cols = data.select_dtypes(include='object').columns\n",
        "\n",
        "# Create imputers for numerical and categorical columns\n",
        "numerical_imputer = SimpleImputer(strategy='most_frequent')\n",
        "categorical_imputer = SimpleImputer(strategy='most_frequent')\n",
        "# Apply imputation to numerical columns\n",
        "data[numerical_cols] = numerical_imputer.fit_transform(data[numerical_cols])\n",
        "\n",
        "# Apply imputation to categorical columns\n",
        "data[categorical_cols] = categorical_imputer.fit_transform(data[categorical_cols])'''"
      ],
      "metadata": {
        "colab": {
          "base_uri": "https://localhost:8080/",
          "height": 88
        },
        "id": "yPYfeIq5Pmlk",
        "outputId": "72b828f8-f7f3-4ce8-92f0-0dd8549461ab"
      },
      "execution_count": null,
      "outputs": [
        {
          "output_type": "execute_result",
          "data": {
            "text/plain": [
              "\"from sklearn.impute import SimpleImputer\\n# Separate numerical and categorical columns\\nnumerical_cols = data.select_dtypes(include='number').columns\\ncategorical_cols = data.select_dtypes(include='object').columns\\n\\n# Create imputers for numerical and categorical columns\\nnumerical_imputer = SimpleImputer(strategy='most_frequent')\\ncategorical_imputer = SimpleImputer(strategy='most_frequent')\\n# Apply imputation to numerical columns\\ndata[numerical_cols] = numerical_imputer.fit_transform(data[numerical_cols])\\n\\n# Apply imputation to categorical columns\\ndata[categorical_cols] = categorical_imputer.fit_transform(data[categorical_cols])\""
            ],
            "application/vnd.google.colaboratory.intrinsic+json": {
              "type": "string"
            }
          },
          "metadata": {},
          "execution_count": 610
        }
      ]
    },
    {
      "cell_type": "code",
      "source": [
        "data['Gender']=data['Gender'].fillna(data['Gender'].mode()[0])"
      ],
      "metadata": {
        "id": "TvQQtXYKzpzb"
      },
      "execution_count": null,
      "outputs": []
    },
    {
      "cell_type": "code",
      "source": [
        "data['Married']=data['Married'].fillna(data['Married'].mode()[0])"
      ],
      "metadata": {
        "id": "0BtEdVSy0nYC"
      },
      "execution_count": null,
      "outputs": []
    },
    {
      "cell_type": "code",
      "source": [
        "data['Dependents']=data['Dependents'].fillna(data['Dependents'].mode()[0])"
      ],
      "metadata": {
        "id": "AUDzSP5W07ID"
      },
      "execution_count": null,
      "outputs": []
    },
    {
      "cell_type": "code",
      "source": [
        "data['Self_Employed']=data['Self_Employed'].fillna(data['Self_Employed'].mode()[0])"
      ],
      "metadata": {
        "id": "6bYDLW3N0-98"
      },
      "execution_count": null,
      "outputs": []
    },
    {
      "cell_type": "code",
      "source": [
        "data.dropna(subset=['LoanAmount'], inplace=True)"
      ],
      "metadata": {
        "id": "VvvFSdm81Hbh"
      },
      "execution_count": null,
      "outputs": []
    },
    {
      "cell_type": "code",
      "source": [
        "data['Loan_Amount_Term']=data['Loan_Amount_Term'].fillna(data['Loan_Amount_Term'].mode()[0])"
      ],
      "metadata": {
        "id": "yx_rBaAE5bML"
      },
      "execution_count": null,
      "outputs": []
    },
    {
      "cell_type": "code",
      "source": [
        "data.dropna(subset=['Credit_History'], inplace=True)"
      ],
      "metadata": {
        "id": "BoEY01AP5jTr"
      },
      "execution_count": null,
      "outputs": []
    },
    {
      "cell_type": "code",
      "source": [
        "print(data.isnull().sum())"
      ],
      "metadata": {
        "colab": {
          "base_uri": "https://localhost:8080/"
        },
        "id": "YSiGc7kazl8l",
        "outputId": "e25c0c4b-8671-48ac-8b70-1ab73acde5aa"
      },
      "execution_count": null,
      "outputs": [
        {
          "output_type": "stream",
          "name": "stdout",
          "text": [
            "Loan_ID              0\n",
            "Gender               0\n",
            "Married              0\n",
            "Dependents           0\n",
            "Education            0\n",
            "Self_Employed        0\n",
            "ApplicantIncome      0\n",
            "CoapplicantIncome    0\n",
            "LoanAmount           0\n",
            "Loan_Amount_Term     0\n",
            "Credit_History       0\n",
            "Property_Area        0\n",
            "Loan_Status          0\n",
            "dtype: int64\n"
          ]
        }
      ]
    },
    {
      "cell_type": "code",
      "source": [
        "data.info()"
      ],
      "metadata": {
        "colab": {
          "base_uri": "https://localhost:8080/"
        },
        "id": "fynQOvHWOkTP",
        "outputId": "2787c652-42d6-4d96-db82-a30c2dee3c5d"
      },
      "execution_count": null,
      "outputs": [
        {
          "output_type": "stream",
          "name": "stdout",
          "text": [
            "<class 'pandas.core.frame.DataFrame'>\n",
            "Int64Index: 543 entries, 1 to 613\n",
            "Data columns (total 13 columns):\n",
            " #   Column             Non-Null Count  Dtype  \n",
            "---  ------             --------------  -----  \n",
            " 0   Loan_ID            543 non-null    object \n",
            " 1   Gender             543 non-null    object \n",
            " 2   Married            543 non-null    object \n",
            " 3   Dependents         543 non-null    object \n",
            " 4   Education          543 non-null    object \n",
            " 5   Self_Employed      543 non-null    object \n",
            " 6   ApplicantIncome    543 non-null    int64  \n",
            " 7   CoapplicantIncome  543 non-null    float64\n",
            " 8   LoanAmount         543 non-null    float64\n",
            " 9   Loan_Amount_Term   543 non-null    float64\n",
            " 10  Credit_History     543 non-null    float64\n",
            " 11  Property_Area      543 non-null    object \n",
            " 12  Loan_Status        543 non-null    object \n",
            "dtypes: float64(4), int64(1), object(8)\n",
            "memory usage: 59.4+ KB\n"
          ]
        }
      ]
    },
    {
      "cell_type": "code",
      "source": [
        "data=pd.get_dummies(data,columns=['Gender'] )\n",
        "data=pd.get_dummies(data,columns=['Married'] )\n",
        "data=pd.get_dummies(data,columns=['Dependents'] )\n",
        "data=pd.get_dummies(data,columns=['Education'] )\n",
        "data=pd.get_dummies(data,columns=['Self_Employed'] )\n",
        "data=pd.get_dummies(data,columns=['Property_Area'] )\n",
        "data=pd.get_dummies(data,columns=['Loan_Status'] )"
      ],
      "metadata": {
        "id": "LMPcU5auAy64"
      },
      "execution_count": null,
      "outputs": []
    },
    {
      "cell_type": "code",
      "source": [
        "'''from sklearn.preprocessing import OneHotEncoder\n",
        "\n",
        "data['Married']=data['Married'].astype('category')\n",
        "data['Self_Employed']=data['Self_Employed'].astype('category')\n",
        "data['Education']=data['Education'].astype('category')\n",
        "data['Property_Area']=data['Property_Area'].astype('category')\n",
        "data['Dependents']=data['Dependents'].astype('category')\n",
        "\n",
        "\n",
        "data['Married_numeric']=data['Married'].cat.codes\n",
        "data['Self_Employed_numeric']=data['Self_Employed'].cat.codes\n",
        "data['Education_numeric']=data['Education'].cat.codes\n",
        "data['Property_Area_numeric']=data['Property_Area'].cat.codes\n",
        "data['Dependents_numeric']=data['Dependents'].cat.codes\n",
        "\n",
        "enc= OneHotEncoder()\n",
        "enc_data= pd.DataFrame(enc.fit_transform(data[['Married_numeric','Self_Employed_numeric','Education_numeric','Property_Area_numeric','Dependents_numeric']]).toarray())'''\n",
        "\n"
      ],
      "metadata": {
        "id": "UZZHBdcq_wCk",
        "colab": {
          "base_uri": "https://localhost:8080/",
          "height": 105
        },
        "outputId": "e50e7442-fb69-4a46-e9f1-ab35ef22518d"
      },
      "execution_count": null,
      "outputs": [
        {
          "output_type": "execute_result",
          "data": {
            "text/plain": [
              "\"from sklearn.preprocessing import OneHotEncoder\\n\\ndata['Married']=data['Married'].astype('category')\\ndata['Self_Employed']=data['Self_Employed'].astype('category')\\ndata['Education']=data['Education'].astype('category')\\ndata['Property_Area']=data['Property_Area'].astype('category')\\ndata['Dependents']=data['Dependents'].astype('category')\\n\\n\\ndata['Married_numeric']=data['Married'].cat.codes\\ndata['Self_Employed_numeric']=data['Self_Employed'].cat.codes\\ndata['Education_numeric']=data['Education'].cat.codes\\ndata['Property_Area_numeric']=data['Property_Area'].cat.codes\\ndata['Dependents_numeric']=data['Dependents'].cat.codes\\n\\nenc= OneHotEncoder()\\nenc_data= pd.DataFrame(enc.fit_transform(data[['Married_numeric','Self_Employed_numeric','Education_numeric','Property_Area_numeric','Dependents_numeric']]).toarray())\""
            ],
            "application/vnd.google.colaboratory.intrinsic+json": {
              "type": "string"
            }
          },
          "metadata": {},
          "execution_count": 621
        }
      ]
    },
    {
      "cell_type": "code",
      "source": [
        "data.info()"
      ],
      "metadata": {
        "colab": {
          "base_uri": "https://localhost:8080/"
        },
        "id": "uOYhChFcLNGE",
        "outputId": "9cdf65a9-a8cd-45ed-9a6c-f51b28483212"
      },
      "execution_count": null,
      "outputs": [
        {
          "output_type": "stream",
          "name": "stdout",
          "text": [
            "<class 'pandas.core.frame.DataFrame'>\n",
            "Int64Index: 543 entries, 1 to 613\n",
            "Data columns (total 23 columns):\n",
            " #   Column                   Non-Null Count  Dtype  \n",
            "---  ------                   --------------  -----  \n",
            " 0   Loan_ID                  543 non-null    object \n",
            " 1   ApplicantIncome          543 non-null    int64  \n",
            " 2   CoapplicantIncome        543 non-null    float64\n",
            " 3   LoanAmount               543 non-null    float64\n",
            " 4   Loan_Amount_Term         543 non-null    float64\n",
            " 5   Credit_History           543 non-null    float64\n",
            " 6   Gender_Female            543 non-null    uint8  \n",
            " 7   Gender_Male              543 non-null    uint8  \n",
            " 8   Married_No               543 non-null    uint8  \n",
            " 9   Married_Yes              543 non-null    uint8  \n",
            " 10  Dependents_0             543 non-null    uint8  \n",
            " 11  Dependents_1             543 non-null    uint8  \n",
            " 12  Dependents_2             543 non-null    uint8  \n",
            " 13  Dependents_3+            543 non-null    uint8  \n",
            " 14  Education_Graduate       543 non-null    uint8  \n",
            " 15  Education_Not Graduate   543 non-null    uint8  \n",
            " 16  Self_Employed_No         543 non-null    uint8  \n",
            " 17  Self_Employed_Yes        543 non-null    uint8  \n",
            " 18  Property_Area_Rural      543 non-null    uint8  \n",
            " 19  Property_Area_Semiurban  543 non-null    uint8  \n",
            " 20  Property_Area_Urban      543 non-null    uint8  \n",
            " 21  Loan_Status_N            543 non-null    uint8  \n",
            " 22  Loan_Status_Y            543 non-null    uint8  \n",
            "dtypes: float64(4), int64(1), object(1), uint8(17)\n",
            "memory usage: 38.7+ KB\n"
          ]
        }
      ]
    },
    {
      "cell_type": "code",
      "source": [
        "data= data.drop(['Loan_ID'],axis=1)"
      ],
      "metadata": {
        "id": "8PGm93xlOtkM"
      },
      "execution_count": null,
      "outputs": []
    },
    {
      "cell_type": "code",
      "source": [
        "data.columns"
      ],
      "metadata": {
        "colab": {
          "base_uri": "https://localhost:8080/"
        },
        "id": "hz9R_0c4Mf0a",
        "outputId": "06ce4ef9-2b8a-48cc-db30-390afbf58037"
      },
      "execution_count": null,
      "outputs": [
        {
          "output_type": "execute_result",
          "data": {
            "text/plain": [
              "Index(['ApplicantIncome', 'CoapplicantIncome', 'LoanAmount',\n",
              "       'Loan_Amount_Term', 'Credit_History', 'Gender_Female', 'Gender_Male',\n",
              "       'Married_No', 'Married_Yes', 'Dependents_0', 'Dependents_1',\n",
              "       'Dependents_2', 'Dependents_3+', 'Education_Graduate',\n",
              "       'Education_Not Graduate', 'Self_Employed_No', 'Self_Employed_Yes',\n",
              "       'Property_Area_Rural', 'Property_Area_Semiurban', 'Property_Area_Urban',\n",
              "       'Loan_Status_N', 'Loan_Status_Y'],\n",
              "      dtype='object')"
            ]
          },
          "metadata": {},
          "execution_count": 624
        }
      ]
    },
    {
      "cell_type": "code",
      "source": [
        "# Create a figure and axis\n",
        "fig, ax = plt.subplots()\n",
        "\n",
        "# Draw the  boxplot\n",
        "print(ax.boxplot(data[['ApplicantIncome','CoapplicantIncome','LoanAmount']], vert=False, patch_artist=True, boxprops=dict(facecolor='pink')))"
      ],
      "metadata": {
        "colab": {
          "base_uri": "https://localhost:8080/",
          "height": 467
        },
        "id": "r1SMrp6mYVCl",
        "outputId": "4a340df4-60f1-4525-80ba-8c1bc903cde0"
      },
      "execution_count": null,
      "outputs": [
        {
          "output_type": "stream",
          "name": "stdout",
          "text": [
            "{'whiskers': [<matplotlib.lines.Line2D object at 0x7f580733f850>, <matplotlib.lines.Line2D object at 0x7f580733f1f0>, <matplotlib.lines.Line2D object at 0x7f5804f6f250>, <matplotlib.lines.Line2D object at 0x7f5804f6ee60>, <matplotlib.lines.Line2D object at 0x7f5804f6d0f0>, <matplotlib.lines.Line2D object at 0x7f5804f6fb50>], 'caps': [<matplotlib.lines.Line2D object at 0x7f580733ea10>, <matplotlib.lines.Line2D object at 0x7f580733ffa0>, <matplotlib.lines.Line2D object at 0x7f5804f6d4e0>, <matplotlib.lines.Line2D object at 0x7f5804f6e1a0>, <matplotlib.lines.Line2D object at 0x7f5804f6d600>, <matplotlib.lines.Line2D object at 0x7f5804f6c580>], 'boxes': [<matplotlib.patches.PathPatch object at 0x7f580733d450>, <matplotlib.patches.PathPatch object at 0x7f5804f6e6e0>, <matplotlib.patches.PathPatch object at 0x7f5804f6c0d0>], 'medians': [<matplotlib.lines.Line2D object at 0x7f580733d480>, <matplotlib.lines.Line2D object at 0x7f5804f6ffa0>, <matplotlib.lines.Line2D object at 0x7f5804f6fa30>], 'fliers': [<matplotlib.lines.Line2D object at 0x7f5842e7dcf0>, <matplotlib.lines.Line2D object at 0x7f5804f6c100>, <matplotlib.lines.Line2D object at 0x7f5804f6f3d0>], 'means': []}\n"
          ]
        },
        {
          "output_type": "display_data",
          "data": {
            "text/plain": [
              "<Figure size 640x480 with 1 Axes>"
            ],
            "image/png": "[encoded data removed]"
          },
          "metadata": {}
        }
      ]
    },
    {
      "cell_type": "code",
      "source": [
        "data.describe()"
      ],
      "metadata": {
        "id": "fUz5N8sFzkJc",
        "colab": {
          "base_uri": "https://localhost:8080/",
          "height": 411
        },
        "outputId": "5e3ca094-0ee7-4737-ff4e-dae92ae70e17"
      },
      "execution_count": null,
      "outputs": [
        {
          "output_type": "execute_result",
          "data": {
            "text/plain": [
              "       ApplicantIncome  CoapplicantIncome  LoanAmount  Loan_Amount_Term  \\\n",
              "count       543.000000         543.000000  543.000000        543.000000   \n",
              "mean       5472.331492        1547.268729  145.088398        342.806630   \n",
              "std        6330.726832        2504.696507   83.309428         64.079671   \n",
              "min         150.000000           0.000000    9.000000         36.000000   \n",
              "25%        2897.500000           0.000000  100.000000        360.000000   \n",
              "50%        3814.000000        1126.000000  127.000000        360.000000   \n",
              "75%        5790.000000        2251.500000  165.500000        360.000000   \n",
              "max       81000.000000       33837.000000  700.000000        480.000000   \n",
              "\n",
              "       Credit_History  Gender_Female  Gender_Male  Married_No  Married_Yes  \\\n",
              "count      543.000000     543.000000   543.000000  543.000000   543.000000   \n",
              "mean         0.843462       0.180479     0.819521    0.355433     0.644567   \n",
              "std          0.363699       0.384940     0.384940    0.479086     0.479086   \n",
              "min          0.000000       0.000000     0.000000    0.000000     0.000000   \n",
              "25%          1.000000       0.000000     1.000000    0.000000     0.000000   \n",
              "50%          1.000000       0.000000     1.000000    0.000000     1.000000   \n",
              "75%          1.000000       0.000000     1.000000    1.000000     1.000000   \n",
              "max          1.000000       1.000000     1.000000    1.000000     1.000000   \n",
              "\n",
              "       Dependents_0  ...  Dependents_3+  Education_Graduate  \\\n",
              "count    543.000000  ...     543.000000          543.000000   \n",
              "mean       0.587477  ...       0.084715            0.790055   \n",
              "std        0.492742  ...       0.278713            0.407644   \n",
              "min        0.000000  ...       0.000000            0.000000   \n",
              "25%        0.000000  ...       0.000000            1.000000   \n",
              "50%        1.000000  ...       0.000000            1.000000   \n",
              "75%        1.000000  ...       0.000000            1.000000   \n",
              "max        1.000000  ...       1.000000            1.000000   \n",
              "\n",
              "       Education_Not Graduate  Self_Employed_No  Self_Employed_Yes  \\\n",
              "count              543.000000        543.000000         543.000000   \n",
              "mean                 0.209945          0.867403           0.132597   \n",
              "std                  0.407644          0.339451           0.339451   \n",
              "min                  0.000000          0.000000           0.000000   \n",
              "25%                  0.000000          1.000000           0.000000   \n",
              "50%                  0.000000          1.000000           0.000000   \n",
              "75%                  0.000000          1.000000           0.000000   \n",
              "max                  1.000000          1.000000           1.000000   \n",
              "\n",
              "       Property_Area_Rural  Property_Area_Semiurban  Property_Area_Urban  \\\n",
              "count           543.000000               543.000000           543.000000   \n",
              "mean              0.292818                 0.390424             0.316759   \n",
              "std               0.455475                 0.488295             0.465641   \n",
              "min               0.000000                 0.000000             0.000000   \n",
              "25%               0.000000                 0.000000             0.000000   \n",
              "50%               0.000000                 0.000000             0.000000   \n",
              "75%               1.000000                 1.000000             1.000000   \n",
              "max               1.000000                 1.000000             1.000000   \n",
              "\n",
              "       Loan_Status_N  Loan_Status_Y  \n",
              "count     543.000000     543.000000  \n",
              "mean        0.311234       0.688766  \n",
              "std         0.463425       0.463425  \n",
              "min         0.000000       0.000000  \n",
              "25%         0.000000       0.000000  \n",
              "50%         0.000000       1.000000  \n",
              "75%         1.000000       1.000000  \n",
              "max         1.000000       1.000000  \n",
              "\n",
              "[8 rows x 22 columns]"
            ],
            "text/html": [
              "\n",
              "  <div id=\"df-272b1dc8-6183-43cb-857b-eb3319fea216\">\n",
              "    <div class=\"colab-df-container\">\n",
              "      <div>\n",
              "<style scoped>\n",
              "    .dataframe tbody tr th:only-of-type {\n",
              "        vertical-align: middle;\n",
              "    }\n",
              "\n",
              "    .dataframe tbody tr th {\n",
              "        vertical-align: top;\n",
              "    }\n",
              "\n",
              "    .dataframe thead th {\n",
              "        text-align: right;\n",
              "    }\n",
              "</style>\n",
              "<table border=\"1\" class=\"dataframe\">\n",
              "  <thead>\n",
              "    <tr style=\"text-align: right;\">\n",
              "      <th></th>\n",
              "      <th>ApplicantIncome</th>\n",
              "      <th>CoapplicantIncome</th>\n",
              "      <th>LoanAmount</th>\n",
              "      <th>Loan_Amount_Term</th>\n",
              "      <th>Credit_History</th>\n",
              "      <th>Gender_Female</th>\n",
              "      <th>Gender_Male</th>\n",
              "      <th>Married_No</th>\n",
              "      <th>Married_Yes</th>\n",
              "      <th>Dependents_0</th>\n",
              "      <th>...</th>\n",
              "      <th>Dependents_3+</th>\n",
              "      <th>Education_Graduate</th>\n",
              "      <th>Education_Not Graduate</th>\n",
              "      <th>Self_Employed_No</th>\n",
              "      <th>Self_Employed_Yes</th>\n",
              "      <th>Property_Area_Rural</th>\n",
              "      <th>Property_Area_Semiurban</th>\n",
              "      <th>Property_Area_Urban</th>\n",
              "      <th>Loan_Status_N</th>\n",
              "      <th>Loan_Status_Y</th>\n",
              "    </tr>\n",
              "  </thead>\n",
              "  <tbody>\n",
              "    <tr>\n",
              "      <th>count</th>\n",
              "      <td>543.000000</td>\n",
              "      <td>543.000000</td>\n",
              "      <td>543.000000</td>\n",
              "      <td>543.000000</td>\n",
              "      <td>543.000000</td>\n",
              "      <td>543.000000</td>\n",
              "      <td>543.000000</td>\n",
              "      <td>543.000000</td>\n",
              "      <td>543.000000</td>\n",
              "      <td>543.000000</td>\n",
              "      <td>...</td>\n",
              "      <td>543.000000</td>\n",
              "      <td>543.000000</td>\n",
              "      <td>543.000000</td>\n",
              "      <td>543.000000</td>\n",
              "      <td>543.000000</td>\n",
              "      <td>543.000000</td>\n",
              "      <td>543.000000</td>\n",
              "      <td>543.000000</td>\n",
              "      <td>543.000000</td>\n",
              "      <td>543.000000</td>\n",
              "    </tr>\n",
              "    <tr>\n",
              "      <th>mean</th>\n",
              "      <td>5472.331492</td>\n",
              "      <td>1547.268729</td>\n",
              "      <td>145.088398</td>\n",
              "      <td>342.806630</td>\n",
              "      <td>0.843462</td>\n",
              "      <td>0.180479</td>\n",
              "      <td>0.819521</td>\n",
              "      <td>0.355433</td>\n",
              "      <td>0.644567</td>\n",
              "      <td>0.587477</td>\n",
              "      <td>...</td>\n",
              "      <td>0.084715</td>\n",
              "      <td>0.790055</td>\n",
              "      <td>0.209945</td>\n",
              "      <td>0.867403</td>\n",
              "      <td>0.132597</td>\n",
              "      <td>0.292818</td>\n",
              "      <td>0.390424</td>\n",
              "      <td>0.316759</td>\n",
              "      <td>0.311234</td>\n",
              "      <td>0.688766</td>\n",
              "    </tr>\n",
              "    <tr>\n",
              "      <th>std</th>\n",
              "      <td>6330.726832</td>\n",
              "      <td>2504.696507</td>\n",
              "      <td>83.309428</td>\n",
              "      <td>64.079671</td>\n",
              "      <td>0.363699</td>\n",
              "      <td>0.384940</td>\n",
              "      <td>0.384940</td>\n",
              "      <td>0.479086</td>\n",
              "      <td>0.479086</td>\n",
              "      <td>0.492742</td>\n",
              "      <td>...</td>\n",
              "      <td>0.278713</td>\n",
              "      <td>0.407644</td>\n",
              "      <td>0.407644</td>\n",
              "      <td>0.339451</td>\n",
              "      <td>0.339451</td>\n",
              "      <td>0.455475</td>\n",
              "      <td>0.488295</td>\n",
              "      <td>0.465641</td>\n",
              "      <td>0.463425</td>\n",
              "      <td>0.463425</td>\n",
              "    </tr>\n",
              "    <tr>\n",
              "      <th>min</th>\n",
              "      <td>150.000000</td>\n",
              "      <td>0.000000</td>\n",
              "      <td>9.000000</td>\n",
              "      <td>36.000000</td>\n",
              "      <td>0.000000</td>\n",
              "      <td>0.000000</td>\n",
              "      <td>0.000000</td>\n",
              "      <td>0.000000</td>\n",
              "      <td>0.000000</td>\n",
              "      <td>0.000000</td>\n",
              "      <td>...</td>\n",
              "      <td>0.000000</td>\n",
              "      <td>0.000000</td>\n",
              "      <td>0.000000</td>\n",
              "      <td>0.000000</td>\n",
              "      <td>0.000000</td>\n",
              "      <td>0.000000</td>\n",
              "      <td>0.000000</td>\n",
              "      <td>0.000000</td>\n",
              "      <td>0.000000</td>\n",
              "      <td>0.000000</td>\n",
              "    </tr>\n",
              "    <tr>\n",
              "      <th>25%</th>\n",
              "      <td>2897.500000</td>\n",
              "      <td>0.000000</td>\n",
              "      <td>100.000000</td>\n",
              "      <td>360.000000</td>\n",
              "      <td>1.000000</td>\n",
              "      <td>0.000000</td>\n",
              "      <td>1.000000</td>\n",
              "      <td>0.000000</td>\n",
              "      <td>0.000000</td>\n",
              "      <td>0.000000</td>\n",
              "      <td>...</td>\n",
              "      <td>0.000000</td>\n",
              "      <td>1.000000</td>\n",
              "      <td>0.000000</td>\n",
              "      <td>1.000000</td>\n",
              "      <td>0.000000</td>\n",
              "      <td>0.000000</td>\n",
              "      <td>0.000000</td>\n",
              "      <td>0.000000</td>\n",
              "      <td>0.000000</td>\n",
              "      <td>0.000000</td>\n",
              "    </tr>\n",
              "    <tr>\n",
              "      <th>50%</th>\n",
              "      <td>3814.000000</td>\n",
              "      <td>1126.000000</td>\n",
              "      <td>127.000000</td>\n",
              "      <td>360.000000</td>\n",
              "      <td>1.000000</td>\n",
              "      <td>0.000000</td>\n",
              "      <td>1.000000</td>\n",
              "      <td>0.000000</td>\n",
              "      <td>1.000000</td>\n",
              "      <td>1.000000</td>\n",
              "      <td>...</td>\n",
              "      <td>0.000000</td>\n",
              "      <td>1.000000</td>\n",
              "      <td>0.000000</td>\n",
              "      <td>1.000000</td>\n",
              "      <td>0.000000</td>\n",
              "      <td>0.000000</td>\n",
              "      <td>0.000000</td>\n",
              "      <td>0.000000</td>\n",
              "      <td>0.000000</td>\n",
              "      <td>1.000000</td>\n",
              "    </tr>\n",
              "    <tr>\n",
              "      <th>75%</th>\n",
              "      <td>5790.000000</td>\n",
              "      <td>2251.500000</td>\n",
              "      <td>165.500000</td>\n",
              "      <td>360.000000</td>\n",
              "      <td>1.000000</td>\n",
              "      <td>0.000000</td>\n",
              "      <td>1.000000</td>\n",
              "      <td>1.000000</td>\n",
              "      <td>1.000000</td>\n",
              "      <td>1.000000</td>\n",
              "      <td>...</td>\n",
              "      <td>0.000000</td>\n",
              "      <td>1.000000</td>\n",
              "      <td>0.000000</td>\n",
              "      <td>1.000000</td>\n",
              "      <td>0.000000</td>\n",
              "      <td>1.000000</td>\n",
              "      <td>1.000000</td>\n",
              "      <td>1.000000</td>\n",
              "      <td>1.000000</td>\n",
              "      <td>1.000000</td>\n",
              "    </tr>\n",
              "    <tr>\n",
              "      <th>max</th>\n",
              "      <td>81000.000000</td>\n",
              "      <td>33837.000000</td>\n",
              "      <td>700.000000</td>\n",
              "      <td>480.000000</td>\n",
              "      <td>1.000000</td>\n",
              "      <td>1.000000</td>\n",
              "      <td>1.000000</td>\n",
              "      <td>1.000000</td>\n",
              "      <td>1.000000</td>\n",
              "      <td>1.000000</td>\n",
              "      <td>...</td>\n",
              "      <td>1.000000</td>\n",
              "      <td>1.000000</td>\n",
              "      <td>1.000000</td>\n",
              "      <td>1.000000</td>\n",
              "      <td>1.000000</td>\n",
              "      <td>1.000000</td>\n",
              "      <td>1.000000</td>\n",
              "      <td>1.000000</td>\n",
              "      <td>1.000000</td>\n",
              "      <td>1.000000</td>\n",
              "    </tr>\n",
              "  </tbody>\n",
              "</table>\n",
              "<p>8 rows × 22 columns</p>\n",
              "</div>\n",
              "      <button class=\"colab-df-convert\" onclick=\"convertToInteractive('df-272b1dc8-6183-43cb-857b-eb3319fea216')\"\n",
              "              title=\"Convert this dataframe to an interactive table.\"\n",
              "              style=\"display:none;\">\n",
              "        \n",
              "  <svg xmlns=\"http://www.w3.org/2000/svg\" height=\"24px\"viewBox=\"0 0 24 24\"\n",
              "       width=\"24px\">\n",
              "    <path d=\"M0 0h24v24H0V0z\" fill=\"none\"/>\n",
              "    <path d=\"M18.56 5.44l.94 2.06.94-2.06 2.06-.94-2.06-.94-.94-2.06-.94 2.06-2.06.94zm-11 1L8.5 8.5l.94-2.06 2.06-.94-2.06-.94L8.5 2.5l-.94 2.06-2.06.94zm10 10l.94 2.06.94-2.06 2.06-.94-2.06-.94-.94-2.06-.94 2.06-2.06.94z\"/><path d=\"M17.41 7.96l-1.37-1.37c-.4-.4-.92-.59-1.43-.59-.52 0-1.04.2-1.43.59L10.3 9.45l-7.72 7.72c-.78.78-.78 2.05 0 2.83L4 21.41c.39.39.9.59 1.41.59.51 0 1.02-.2 1.41-.59l7.78-7.78 2.81-2.81c.8-.78.8-2.07 0-2.86zM5.41 20L4 18.59l7.72-7.72 1.47 1.35L5.41 20z\"/>\n",
              "  </svg>\n",
              "      </button>\n",
              "      \n",
              "  <style>\n",
              "    .colab-df-container {\n",
              "      display:flex;\n",
              "      flex-wrap:wrap;\n",
              "      gap: 12px;\n",
              "    }\n",
              "\n",
              "    .colab-df-convert {\n",
              "      background-color: #E8F0FE;\n",
              "      border: none;\n",
              "      border-radius: 50%;\n",
              "      cursor: pointer;\n",
              "      display: none;\n",
              "      fill: #1967D2;\n",
              "      height: 32px;\n",
              "      padding: 0 0 0 0;\n",
              "      width: 32px;\n",
              "    }\n",
              "\n",
              "    .colab-df-convert:hover {\n",
              "      background-color: #E2EBFA;\n",
              "      box-shadow: 0px 1px 2px rgba(60, 64, 67, 0.3), 0px 1px 3px 1px rgba(60, 64, 67, 0.15);\n",
              "      fill: #174EA6;\n",
              "    }\n",
              "\n",
              "    [theme=dark] .colab-df-convert {\n",
              "      background-color: #3B4455;\n",
              "      fill: #D2E3FC;\n",
              "    }\n",
              "\n",
              "    [theme=dark] .colab-df-convert:hover {\n",
              "      background-color: #434B5C;\n",
              "      box-shadow: 0px 1px 3px 1px rgba(0, 0, 0, 0.15);\n",
              "      filter: drop-shadow(0px 1px 2px rgba(0, 0, 0, 0.3));\n",
              "      fill: #FFFFFF;\n",
              "    }\n",
              "  </style>\n",
              "\n",
              "      <script>\n",
              "        const buttonEl =\n",
              "          document.querySelector('#df-272b1dc8-6183-43cb-857b-eb3319fea216 button.colab-df-convert');\n",
              "        buttonEl.style.display =\n",
              "          google.colab.kernel.accessAllowed ? 'block' : 'none';\n",
              "\n",
              "        async function convertToInteractive(key) {\n",
              "          const element = document.querySelector('#df-272b1dc8-6183-43cb-857b-eb3319fea216');\n",
              "          const dataTable =\n",
              "            await google.colab.kernel.invokeFunction('convertToInteractive',\n",
              "                                                     [key], {});\n",
              "          if (!dataTable) return;\n",
              "\n",
              "          const docLinkHtml = 'Like what you see? Visit the ' +\n",
              "            '<a target=\"_blank\" href=https://colab.research.google.com/notebooks/data_table.ipynb>data table notebook</a>'\n",
              "            + ' to learn more about interactive tables.';\n",
              "          element.innerHTML = '';\n",
              "          dataTable['output_type'] = 'display_data';\n",
              "          await google.colab.output.renderOutput(dataTable, element);\n",
              "          const docLink = document.createElement('div');\n",
              "          docLink.innerHTML = docLinkHtml;\n",
              "          element.appendChild(docLink);\n",
              "        }\n",
              "      </script>\n",
              "    </div>\n",
              "  </div>\n",
              "  "
            ]
          },
          "metadata": {},
          "execution_count": 626
        }
      ]
    },
    {
      "cell_type": "code",
      "source": [
        "MAX_ApplicantIncome=5790.000000 + (1.5 * (5790.000000-5790.000000))\n",
        "MIN_ApplicantIncome=150.000000- (1.5 * (5790.000000-5790.000000))\n",
        "for x in data.index:\n",
        " if data.loc[x,\"ApplicantIncome\"] > MAX_ApplicantIncome:\n",
        "   data.loc[x,\"ApplicantIncome\"] = MAX_ApplicantIncome\n",
        " elif data.loc[x,\"ApplicantIncome\"] < MIN_ApplicantIncome:\n",
        "    data.loc[x,\"ApplicantIncome\"] = MIN_ApplicantIncome\n"
      ],
      "metadata": {
        "id": "qWjyrMitrcwR"
      },
      "execution_count": null,
      "outputs": []
    },
    {
      "cell_type": "code",
      "source": [
        "MAX_CoapplicantIncome=2251.500000+ (1.5 * (2251.500000-0.000000))\n",
        "MIN_CoapplicantIncome=0.000000- (1.5 * (2251.500000-0.000000))\n",
        "for x in data.index:\n",
        " if data.loc[x,\"CoapplicantIncome\"] > MAX_CoapplicantIncome:\n",
        "   data.loc[x,\"CoapplicantIncome\"] = MAX_CoapplicantIncome\n",
        " elif data.loc[x,\"CoapplicantIncome\"] < MIN_CoapplicantIncome:\n",
        "    data.loc[x,\"CoapplicantIncome\"] = MIN_CoapplicantIncome\n"
      ],
      "metadata": {
        "id": "UFPCD5z_TbSc"
      },
      "execution_count": null,
      "outputs": []
    },
    {
      "cell_type": "code",
      "source": [
        "MAX_LoanAmount=165.500000+ (1.5 * (165.500000-100.000000))\n",
        "MIN_LoanAmount=100.000000\t- (1.5 * (165.500000-100.000000))\n",
        "for x in data.index:\n",
        " if data.loc[x,\"LoanAmount\"] > MAX_LoanAmount:\n",
        "   data.loc[x,\"LoanAmount\"] = MAX_LoanAmount\n",
        " elif data.loc[x,\"LoanAmount\"] < MIN_LoanAmount:\n",
        "    data.loc[x,\"LoanAmount\"] = MIN_LoanAmount\n"
      ],
      "metadata": {
        "id": "rmOIEfrgU3GO"
      },
      "execution_count": null,
      "outputs": []
    },
    {
      "cell_type": "code",
      "source": [
        "'''MAX_Loan_Amount_Term\t=360.000000\t+ (1.5 * (360.000000-360.000000\t))\n",
        "MIN_Loan_Amount_Term=360.000000\t- (1.5 * (360.000000-360.000000\t))\n",
        "for x in data.index:\n",
        " if data.loc[x,\"Loan_Amount_Term\"] > MAX_Loan_Amount_Term\t:\n",
        "   data.loc[x,\"Loan_Amount_Term\"] = MAX_Loan_Amount_Term\n",
        " elif data.loc[x,\"Loan_Amount_Term\"] < MIN_Loan_Amount_Term:\n",
        "    data.loc[x,\"Loan_Amount_Term\"] = MIN_Loan_Amount_Term'''"
      ],
      "metadata": {
        "id": "IczBHRUnV1Lj",
        "colab": {
          "base_uri": "https://localhost:8080/",
          "height": 70
        },
        "outputId": "c821a0db-ce70-4d39-be7c-21c6965f55ca"
      },
      "execution_count": null,
      "outputs": [
        {
          "output_type": "execute_result",
          "data": {
            "text/plain": [
              "'MAX_Loan_Amount_Term\\t=360.000000\\t+ (1.5 * (360.000000-360.000000\\t))\\nMIN_Loan_Amount_Term=360.000000\\t- (1.5 * (360.000000-360.000000\\t))\\nfor x in data.index:\\n if data.loc[x,\"Loan_Amount_Term\"] > MAX_Loan_Amount_Term\\t:\\n   data.loc[x,\"Loan_Amount_Term\"] = MAX_Loan_Amount_Term\\t\\n elif data.loc[x,\"Loan_Amount_Term\"] < MIN_Loan_Amount_Term:\\n    data.loc[x,\"Loan_Amount_Term\"] = MIN_Loan_Amount_Term'"
            ],
            "application/vnd.google.colaboratory.intrinsic+json": {
              "type": "string"
            }
          },
          "metadata": {},
          "execution_count": 630
        }
      ]
    },
    {
      "cell_type": "code",
      "source": [
        "data.describe()"
      ],
      "metadata": {
        "colab": {
          "base_uri": "https://localhost:8080/",
          "height": 411
        },
        "id": "nOTuxdsxUctI",
        "outputId": "1c3f1c0f-f6bb-4ea3-810c-db92e9b222fb"
      },
      "execution_count": null,
      "outputs": [
        {
          "output_type": "execute_result",
          "data": {
            "text/plain": [
              "       ApplicantIncome  CoapplicantIncome  LoanAmount  Loan_Amount_Term  \\\n",
              "count       543.000000         543.000000  543.000000        543.000000   \n",
              "mean       4004.416206        1388.662376  137.167587        342.806630   \n",
              "std        1393.443576        1593.393928   56.722491         64.079671   \n",
              "min         150.000000           0.000000    9.000000         36.000000   \n",
              "25%        2897.500000           0.000000  100.000000        360.000000   \n",
              "50%        3814.000000        1126.000000  127.000000        360.000000   \n",
              "75%        5785.000000        2251.500000  165.500000        360.000000   \n",
              "max        5790.000000        5628.750000  263.750000        480.000000   \n",
              "\n",
              "       Credit_History  Gender_Female  Gender_Male  Married_No  Married_Yes  \\\n",
              "count      543.000000     543.000000   543.000000  543.000000   543.000000   \n",
              "mean         0.843462       0.180479     0.819521    0.355433     0.644567   \n",
              "std          0.363699       0.384940     0.384940    0.479086     0.479086   \n",
              "min          0.000000       0.000000     0.000000    0.000000     0.000000   \n",
              "25%          1.000000       0.000000     1.000000    0.000000     0.000000   \n",
              "50%          1.000000       0.000000     1.000000    0.000000     1.000000   \n",
              "75%          1.000000       0.000000     1.000000    1.000000     1.000000   \n",
              "max          1.000000       1.000000     1.000000    1.000000     1.000000   \n",
              "\n",
              "       Dependents_0  ...  Dependents_3+  Education_Graduate  \\\n",
              "count    543.000000  ...     543.000000          543.000000   \n",
              "mean       0.587477  ...       0.084715            0.790055   \n",
              "std        0.492742  ...       0.278713            0.407644   \n",
              "min        0.000000  ...       0.000000            0.000000   \n",
              "25%        0.000000  ...       0.000000            1.000000   \n",
              "50%        1.000000  ...       0.000000            1.000000   \n",
              "75%        1.000000  ...       0.000000            1.000000   \n",
              "max        1.000000  ...       1.000000            1.000000   \n",
              "\n",
              "       Education_Not Graduate  Self_Employed_No  Self_Employed_Yes  \\\n",
              "count              543.000000        543.000000         543.000000   \n",
              "mean                 0.209945          0.867403           0.132597   \n",
              "std                  0.407644          0.339451           0.339451   \n",
              "min                  0.000000          0.000000           0.000000   \n",
              "25%                  0.000000          1.000000           0.000000   \n",
              "50%                  0.000000          1.000000           0.000000   \n",
              "75%                  0.000000          1.000000           0.000000   \n",
              "max                  1.000000          1.000000           1.000000   \n",
              "\n",
              "       Property_Area_Rural  Property_Area_Semiurban  Property_Area_Urban  \\\n",
              "count           543.000000               543.000000           543.000000   \n",
              "mean              0.292818                 0.390424             0.316759   \n",
              "std               0.455475                 0.488295             0.465641   \n",
              "min               0.000000                 0.000000             0.000000   \n",
              "25%               0.000000                 0.000000             0.000000   \n",
              "50%               0.000000                 0.000000             0.000000   \n",
              "75%               1.000000                 1.000000             1.000000   \n",
              "max               1.000000                 1.000000             1.000000   \n",
              "\n",
              "       Loan_Status_N  Loan_Status_Y  \n",
              "count     543.000000     543.000000  \n",
              "mean        0.311234       0.688766  \n",
              "std         0.463425       0.463425  \n",
              "min         0.000000       0.000000  \n",
              "25%         0.000000       0.000000  \n",
              "50%         0.000000       1.000000  \n",
              "75%         1.000000       1.000000  \n",
              "max         1.000000       1.000000  \n",
              "\n",
              "[8 rows x 22 columns]"
            ],
            "text/html": [
              "\n",
              "  <div id=\"df-20e54dd4-1831-41ca-bbde-fc847737fa47\">\n",
              "    <div class=\"colab-df-container\">\n",
              "      <div>\n",
              "<style scoped>\n",
              "    .dataframe tbody tr th:only-of-type {\n",
              "        vertical-align: middle;\n",
              "    }\n",
              "\n",
              "    .dataframe tbody tr th {\n",
              "        vertical-align: top;\n",
              "    }\n",
              "\n",
              "    .dataframe thead th {\n",
              "        text-align: right;\n",
              "    }\n",
              "</style>\n",
              "<table border=\"1\" class=\"dataframe\">\n",
              "  <thead>\n",
              "    <tr style=\"text-align: right;\">\n",
              "      <th></th>\n",
              "      <th>ApplicantIncome</th>\n",
              "      <th>CoapplicantIncome</th>\n",
              "      <th>LoanAmount</th>\n",
              "      <th>Loan_Amount_Term</th>\n",
              "      <th>Credit_History</th>\n",
              "      <th>Gender_Female</th>\n",
              "      <th>Gender_Male</th>\n",
              "      <th>Married_No</th>\n",
              "      <th>Married_Yes</th>\n",
              "      <th>Dependents_0</th>\n",
              "      <th>...</th>\n",
              "      <th>Dependents_3+</th>\n",
              "      <th>Education_Graduate</th>\n",
              "      <th>Education_Not Graduate</th>\n",
              "      <th>Self_Employed_No</th>\n",
              "      <th>Self_Employed_Yes</th>\n",
              "      <th>Property_Area_Rural</th>\n",
              "      <th>Property_Area_Semiurban</th>\n",
              "      <th>Property_Area_Urban</th>\n",
              "      <th>Loan_Status_N</th>\n",
              "      <th>Loan_Status_Y</th>\n",
              "    </tr>\n",
              "  </thead>\n",
              "  <tbody>\n",
              "    <tr>\n",
              "      <th>count</th>\n",
              "      <td>543.000000</td>\n",
              "      <td>543.000000</td>\n",
              "      <td>543.000000</td>\n",
              "      <td>543.000000</td>\n",
              "      <td>543.000000</td>\n",
              "      <td>543.000000</td>\n",
              "      <td>543.000000</td>\n",
              "      <td>543.000000</td>\n",
              "      <td>543.000000</td>\n",
              "      <td>543.000000</td>\n",
              "      <td>...</td>\n",
              "      <td>543.000000</td>\n",
              "      <td>543.000000</td>\n",
              "      <td>543.000000</td>\n",
              "      <td>543.000000</td>\n",
              "      <td>543.000000</td>\n",
              "      <td>543.000000</td>\n",
              "      <td>543.000000</td>\n",
              "      <td>543.000000</td>\n",
              "      <td>543.000000</td>\n",
              "      <td>543.000000</td>\n",
              "    </tr>\n",
              "    <tr>\n",
              "      <th>mean</th>\n",
              "      <td>4004.416206</td>\n",
              "      <td>1388.662376</td>\n",
              "      <td>137.167587</td>\n",
              "      <td>342.806630</td>\n",
              "      <td>0.843462</td>\n",
              "      <td>0.180479</td>\n",
              "      <td>0.819521</td>\n",
              "      <td>0.355433</td>\n",
              "      <td>0.644567</td>\n",
              "      <td>0.587477</td>\n",
              "      <td>...</td>\n",
              "      <td>0.084715</td>\n",
              "      <td>0.790055</td>\n",
              "      <td>0.209945</td>\n",
              "      <td>0.867403</td>\n",
              "      <td>0.132597</td>\n",
              "      <td>0.292818</td>\n",
              "      <td>0.390424</td>\n",
              "      <td>0.316759</td>\n",
              "      <td>0.311234</td>\n",
              "      <td>0.688766</td>\n",
              "    </tr>\n",
              "    <tr>\n",
              "      <th>std</th>\n",
              "      <td>1393.443576</td>\n",
              "      <td>1593.393928</td>\n",
              "      <td>56.722491</td>\n",
              "      <td>64.079671</td>\n",
              "      <td>0.363699</td>\n",
              "      <td>0.384940</td>\n",
              "      <td>0.384940</td>\n",
              "      <td>0.479086</td>\n",
              "      <td>0.479086</td>\n",
              "      <td>0.492742</td>\n",
              "      <td>...</td>\n",
              "      <td>0.278713</td>\n",
              "      <td>0.407644</td>\n",
              "      <td>0.407644</td>\n",
              "      <td>0.339451</td>\n",
              "      <td>0.339451</td>\n",
              "      <td>0.455475</td>\n",
              "      <td>0.488295</td>\n",
              "      <td>0.465641</td>\n",
              "      <td>0.463425</td>\n",
              "      <td>0.463425</td>\n",
              "    </tr>\n",
              "    <tr>\n",
              "      <th>min</th>\n",
              "      <td>150.000000</td>\n",
              "      <td>0.000000</td>\n",
              "      <td>9.000000</td>\n",
              "      <td>36.000000</td>\n",
              "      <td>0.000000</td>\n",
              "      <td>0.000000</td>\n",
              "      <td>0.000000</td>\n",
              "      <td>0.000000</td>\n",
              "      <td>0.000000</td>\n",
              "      <td>0.000000</td>\n",
              "      <td>...</td>\n",
              "      <td>0.000000</td>\n",
              "      <td>0.000000</td>\n",
              "      <td>0.000000</td>\n",
              "      <td>0.000000</td>\n",
              "      <td>0.000000</td>\n",
              "      <td>0.000000</td>\n",
              "      <td>0.000000</td>\n",
              "      <td>0.000000</td>\n",
              "      <td>0.000000</td>\n",
              "      <td>0.000000</td>\n",
              "    </tr>\n",
              "    <tr>\n",
              "      <th>25%</th>\n",
              "      <td>2897.500000</td>\n",
              "      <td>0.000000</td>\n",
              "      <td>100.000000</td>\n",
              "      <td>360.000000</td>\n",
              "      <td>1.000000</td>\n",
              "      <td>0.000000</td>\n",
              "      <td>1.000000</td>\n",
              "      <td>0.000000</td>\n",
              "      <td>0.000000</td>\n",
              "      <td>0.000000</td>\n",
              "      <td>...</td>\n",
              "      <td>0.000000</td>\n",
              "      <td>1.000000</td>\n",
              "      <td>0.000000</td>\n",
              "      <td>1.000000</td>\n",
              "      <td>0.000000</td>\n",
              "      <td>0.000000</td>\n",
              "      <td>0.000000</td>\n",
              "      <td>0.000000</td>\n",
              "      <td>0.000000</td>\n",
              "      <td>0.000000</td>\n",
              "    </tr>\n",
              "    <tr>\n",
              "      <th>50%</th>\n",
              "      <td>3814.000000</td>\n",
              "      <td>1126.000000</td>\n",
              "      <td>127.000000</td>\n",
              "      <td>360.000000</td>\n",
              "      <td>1.000000</td>\n",
              "      <td>0.000000</td>\n",
              "      <td>1.000000</td>\n",
              "      <td>0.000000</td>\n",
              "      <td>1.000000</td>\n",
              "      <td>1.000000</td>\n",
              "      <td>...</td>\n",
              "      <td>0.000000</td>\n",
              "      <td>1.000000</td>\n",
              "      <td>0.000000</td>\n",
              "      <td>1.000000</td>\n",
              "      <td>0.000000</td>\n",
              "      <td>0.000000</td>\n",
              "      <td>0.000000</td>\n",
              "      <td>0.000000</td>\n",
              "      <td>0.000000</td>\n",
              "      <td>1.000000</td>\n",
              "    </tr>\n",
              "    <tr>\n",
              "      <th>75%</th>\n",
              "      <td>5785.000000</td>\n",
              "      <td>2251.500000</td>\n",
              "      <td>165.500000</td>\n",
              "      <td>360.000000</td>\n",
              "      <td>1.000000</td>\n",
              "      <td>0.000000</td>\n",
              "      <td>1.000000</td>\n",
              "      <td>1.000000</td>\n",
              "      <td>1.000000</td>\n",
              "      <td>1.000000</td>\n",
              "      <td>...</td>\n",
              "      <td>0.000000</td>\n",
              "      <td>1.000000</td>\n",
              "      <td>0.000000</td>\n",
              "      <td>1.000000</td>\n",
              "      <td>0.000000</td>\n",
              "      <td>1.000000</td>\n",
              "      <td>1.000000</td>\n",
              "      <td>1.000000</td>\n",
              "      <td>1.000000</td>\n",
              "      <td>1.000000</td>\n",
              "    </tr>\n",
              "    <tr>\n",
              "      <th>max</th>\n",
              "      <td>5790.000000</td>\n",
              "      <td>5628.750000</td>\n",
              "      <td>263.750000</td>\n",
              "      <td>480.000000</td>\n",
              "      <td>1.000000</td>\n",
              "      <td>1.000000</td>\n",
              "      <td>1.000000</td>\n",
              "      <td>1.000000</td>\n",
              "      <td>1.000000</td>\n",
              "      <td>1.000000</td>\n",
              "      <td>...</td>\n",
              "      <td>1.000000</td>\n",
              "      <td>1.000000</td>\n",
              "      <td>1.000000</td>\n",
              "      <td>1.000000</td>\n",
              "      <td>1.000000</td>\n",
              "      <td>1.000000</td>\n",
              "      <td>1.000000</td>\n",
              "      <td>1.000000</td>\n",
              "      <td>1.000000</td>\n",
              "      <td>1.000000</td>\n",
              "    </tr>\n",
              "  </tbody>\n",
              "</table>\n",
              "<p>8 rows × 22 columns</p>\n",
              "</div>\n",
              "      <button class=\"colab-df-convert\" onclick=\"convertToInteractive('df-20e54dd4-1831-41ca-bbde-fc847737fa47')\"\n",
              "              title=\"Convert this dataframe to an interactive table.\"\n",
              "              style=\"display:none;\">\n",
              "        \n",
              "  <svg xmlns=\"http://www.w3.org/2000/svg\" height=\"24px\"viewBox=\"0 0 24 24\"\n",
              "       width=\"24px\">\n",
              "    <path d=\"M0 0h24v24H0V0z\" fill=\"none\"/>\n",
              "    <path d=\"M18.56 5.44l.94 2.06.94-2.06 2.06-.94-2.06-.94-.94-2.06-.94 2.06-2.06.94zm-11 1L8.5 8.5l.94-2.06 2.06-.94-2.06-.94L8.5 2.5l-.94 2.06-2.06.94zm10 10l.94 2.06.94-2.06 2.06-.94-2.06-.94-.94-2.06-.94 2.06-2.06.94z\"/><path d=\"M17.41 7.96l-1.37-1.37c-.4-.4-.92-.59-1.43-.59-.52 0-1.04.2-1.43.59L10.3 9.45l-7.72 7.72c-.78.78-.78 2.05 0 2.83L4 21.41c.39.39.9.59 1.41.59.51 0 1.02-.2 1.41-.59l7.78-7.78 2.81-2.81c.8-.78.8-2.07 0-2.86zM5.41 20L4 18.59l7.72-7.72 1.47 1.35L5.41 20z\"/>\n",
              "  </svg>\n",
              "      </button>\n",
              "      \n",
              "  <style>\n",
              "    .colab-df-container {\n",
              "      display:flex;\n",
              "      flex-wrap:wrap;\n",
              "      gap: 12px;\n",
              "    }\n",
              "\n",
              "    .colab-df-convert {\n",
              "      background-color: #E8F0FE;\n",
              "      border: none;\n",
              "      border-radius: 50%;\n",
              "      cursor: pointer;\n",
              "      display: none;\n",
              "      fill: #1967D2;\n",
              "      height: 32px;\n",
              "      padding: 0 0 0 0;\n",
              "      width: 32px;\n",
              "    }\n",
              "\n",
              "    .colab-df-convert:hover {\n",
              "      background-color: #E2EBFA;\n",
              "      box-shadow: 0px 1px 2px rgba(60, 64, 67, 0.3), 0px 1px 3px 1px rgba(60, 64, 67, 0.15);\n",
              "      fill: #174EA6;\n",
              "    }\n",
              "\n",
              "    [theme=dark] .colab-df-convert {\n",
              "      background-color: #3B4455;\n",
              "      fill: #D2E3FC;\n",
              "    }\n",
              "\n",
              "    [theme=dark] .colab-df-convert:hover {\n",
              "      background-color: #434B5C;\n",
              "      box-shadow: 0px 1px 3px 1px rgba(0, 0, 0, 0.15);\n",
              "      filter: drop-shadow(0px 1px 2px rgba(0, 0, 0, 0.3));\n",
              "      fill: #FFFFFF;\n",
              "    }\n",
              "  </style>\n",
              "\n",
              "      <script>\n",
              "        const buttonEl =\n",
              "          document.querySelector('#df-20e54dd4-1831-41ca-bbde-fc847737fa47 button.colab-df-convert');\n",
              "        buttonEl.style.display =\n",
              "          google.colab.kernel.accessAllowed ? 'block' : 'none';\n",
              "\n",
              "        async function convertToInteractive(key) {\n",
              "          const element = document.querySelector('#df-20e54dd4-1831-41ca-bbde-fc847737fa47');\n",
              "          const dataTable =\n",
              "            await google.colab.kernel.invokeFunction('convertToInteractive',\n",
              "                                                     [key], {});\n",
              "          if (!dataTable) return;\n",
              "\n",
              "          const docLinkHtml = 'Like what you see? Visit the ' +\n",
              "            '<a target=\"_blank\" href=https://colab.research.google.com/notebooks/data_table.ipynb>data table notebook</a>'\n",
              "            + ' to learn more about interactive tables.';\n",
              "          element.innerHTML = '';\n",
              "          dataTable['output_type'] = 'display_data';\n",
              "          await google.colab.output.renderOutput(dataTable, element);\n",
              "          const docLink = document.createElement('div');\n",
              "          docLink.innerHTML = docLinkHtml;\n",
              "          element.appendChild(docLink);\n",
              "        }\n",
              "      </script>\n",
              "    </div>\n",
              "  </div>\n",
              "  "
            ]
          },
          "metadata": {},
          "execution_count": 631
        }
      ]
    },
    {
      "cell_type": "code",
      "source": [
        "# Create a figure and axis\n",
        "fig, ax = plt.subplots()\n",
        "\n",
        "# Draw the horizontal boxplot with color\n",
        "print(ax.boxplot(data[['ApplicantIncome','CoapplicantIncome','LoanAmount' ]], vert=False, patch_artist=True, boxprops=dict(facecolor='pink')))"
      ],
      "metadata": {
        "colab": {
          "base_uri": "https://localhost:8080/",
          "height": 467
        },
        "id": "0yDiM5mSTLHg",
        "outputId": "7f14f054-eb25-4ccc-d081-b67fc6394db2"
      },
      "execution_count": null,
      "outputs": [
        {
          "output_type": "stream",
          "name": "stdout",
          "text": [
            "{'whiskers': [<matplotlib.lines.Line2D object at 0x7f580795edd0>, <matplotlib.lines.Line2D object at 0x7f580795cca0>, <matplotlib.lines.Line2D object at 0x7f580740c100>, <matplotlib.lines.Line2D object at 0x7f580740ea10>, <matplotlib.lines.Line2D object at 0x7f5804ebfaf0>, <matplotlib.lines.Line2D object at 0x7f5804ebf7c0>], 'caps': [<matplotlib.lines.Line2D object at 0x7f580795ec20>, <matplotlib.lines.Line2D object at 0x7f580795f190>, <matplotlib.lines.Line2D object at 0x7f5804f99f00>, <matplotlib.lines.Line2D object at 0x7f5804ebd3f0>, <matplotlib.lines.Line2D object at 0x7f5804ebcc70>, <matplotlib.lines.Line2D object at 0x7f5804ebe350>], 'boxes': [<matplotlib.patches.PathPatch object at 0x7f580795d3c0>, <matplotlib.patches.PathPatch object at 0x7f580795f160>, <matplotlib.patches.PathPatch object at 0x7f5804ebdea0>], 'medians': [<matplotlib.lines.Line2D object at 0x7f580795e9e0>, <matplotlib.lines.Line2D object at 0x7f5804ebe530>, <matplotlib.lines.Line2D object at 0x7f5804ebcd30>], 'fliers': [<matplotlib.lines.Line2D object at 0x7f580795d030>, <matplotlib.lines.Line2D object at 0x7f5804ebc3d0>, <matplotlib.lines.Line2D object at 0x7f5804ebe5c0>], 'means': []}\n"
          ]
        },
        {
          "output_type": "display_data",
          "data": {
            "text/plain": [
              "<Figure size 640x480 with 1 Axes>"
            ],
            "image/png": "[encoded data removed]"
          },
          "metadata": {}
        }
      ]
    },
    {
      "cell_type": "code",
      "source": [
        "from sklearn.preprocessing import MinMaxScaler\n",
        "#to take an object from class MinMaxScaler\n",
        "scaler = MinMaxScaler()\n",
        "#this code normalizes values in dataframe , but it returns an array\n",
        "normalized_data = scaler.fit_transform(data)\n",
        "#converting array to dataframe\n",
        "data = pd.DataFrame(normalized_data, columns=data.columns )\n",
        "#now we have df as a normalized data frame with all values in range [0,1]\n"
      ],
      "metadata": {
        "id": "x6a7hROeUVPC"
      },
      "execution_count": null,
      "outputs": []
    },
    {
      "cell_type": "code",
      "source": [
        "data.head()"
      ],
      "metadata": {
        "colab": {
          "base_uri": "https://localhost:8080/",
          "height": 317
        },
        "id": "_RZdLwRnVQTy",
        "outputId": "196f83af-224d-4c99-8797-82d0ac0e8cfc"
      },
      "execution_count": null,
      "outputs": [
        {
          "output_type": "execute_result",
          "data": {
            "text/plain": [
              "   ApplicantIncome  CoapplicantIncome  LoanAmount  Loan_Amount_Term  \\\n",
              "0         0.785993           0.267910    0.467125           0.72973   \n",
              "1         0.505319           0.000000    0.223749           0.72973   \n",
              "2         0.431383           0.418921    0.435721           0.72973   \n",
              "3         1.000000           0.000000    0.518155           0.72973   \n",
              "4         0.933865           0.745459    1.000000           0.72973   \n",
              "\n",
              "   Credit_History  Gender_Female  Gender_Male  Married_No  Married_Yes  \\\n",
              "0             1.0            0.0          1.0         0.0          1.0   \n",
              "1             1.0            0.0          1.0         0.0          1.0   \n",
              "2             1.0            0.0          1.0         0.0          1.0   \n",
              "3             1.0            0.0          1.0         1.0          0.0   \n",
              "4             1.0            0.0          1.0         0.0          1.0   \n",
              "\n",
              "   Dependents_0  ...  Dependents_3+  Education_Graduate  \\\n",
              "0           0.0  ...            0.0                 1.0   \n",
              "1           1.0  ...            0.0                 1.0   \n",
              "2           1.0  ...            0.0                 0.0   \n",
              "3           1.0  ...            0.0                 1.0   \n",
              "4           0.0  ...            0.0                 1.0   \n",
              "\n",
              "   Education_Not Graduate  Self_Employed_No  Self_Employed_Yes  \\\n",
              "0                     0.0               1.0                0.0   \n",
              "1                     0.0               0.0                1.0   \n",
              "2                     1.0               1.0                0.0   \n",
              "3                     0.0               1.0                0.0   \n",
              "4                     0.0               0.0                1.0   \n",
              "\n",
              "   Property_Area_Rural  Property_Area_Semiurban  Property_Area_Urban  \\\n",
              "0                  1.0                      0.0                  0.0   \n",
              "1                  0.0                      0.0                  1.0   \n",
              "2                  0.0                      0.0                  1.0   \n",
              "3                  0.0                      0.0                  1.0   \n",
              "4                  0.0                      0.0                  1.0   \n",
              "\n",
              "   Loan_Status_N  Loan_Status_Y  \n",
              "0            1.0            0.0  \n",
              "1            0.0            1.0  \n",
              "2            0.0            1.0  \n",
              "3            0.0            1.0  \n",
              "4            0.0            1.0  \n",
              "\n",
              "[5 rows x 22 columns]"
            ],
            "text/html": [
              "\n",
              "  <div id=\"df-083852ff-405e-4b8a-a871-ed21802e2da8\">\n",
              "    <div class=\"colab-df-container\">\n",
              "      <div>\n",
              "<style scoped>\n",
              "    .dataframe tbody tr th:only-of-type {\n",
              "        vertical-align: middle;\n",
              "    }\n",
              "\n",
              "    .dataframe tbody tr th {\n",
              "        vertical-align: top;\n",
              "    }\n",
              "\n",
              "    .dataframe thead th {\n",
              "        text-align: right;\n",
              "    }\n",
              "</style>\n",
              "<table border=\"1\" class=\"dataframe\">\n",
              "  <thead>\n",
              "    <tr style=\"text-align: right;\">\n",
              "      <th></th>\n",
              "      <th>ApplicantIncome</th>\n",
              "      <th>CoapplicantIncome</th>\n",
              "      <th>LoanAmount</th>\n",
              "      <th>Loan_Amount_Term</th>\n",
              "      <th>Credit_History</th>\n",
              "      <th>Gender_Female</th>\n",
              "      <th>Gender_Male</th>\n",
              "      <th>Married_No</th>\n",
              "      <th>Married_Yes</th>\n",
              "      <th>Dependents_0</th>\n",
              "      <th>...</th>\n",
              "      <th>Dependents_3+</th>\n",
              "      <th>Education_Graduate</th>\n",
              "      <th>Education_Not Graduate</th>\n",
              "      <th>Self_Employed_No</th>\n",
              "      <th>Self_Employed_Yes</th>\n",
              "      <th>Property_Area_Rural</th>\n",
              "      <th>Property_Area_Semiurban</th>\n",
              "      <th>Property_Area_Urban</th>\n",
              "      <th>Loan_Status_N</th>\n",
              "      <th>Loan_Status_Y</th>\n",
              "    </tr>\n",
              "  </thead>\n",
              "  <tbody>\n",
              "    <tr>\n",
              "      <th>0</th>\n",
              "      <td>0.785993</td>\n",
              "      <td>0.267910</td>\n",
              "      <td>0.467125</td>\n",
              "      <td>0.72973</td>\n",
              "      <td>1.0</td>\n",
              "      <td>0.0</td>\n",
              "      <td>1.0</td>\n",
              "      <td>0.0</td>\n",
              "      <td>1.0</td>\n",
              "      <td>0.0</td>\n",
              "      <td>...</td>\n",
              "      <td>0.0</td>\n",
              "      <td>1.0</td>\n",
              "      <td>0.0</td>\n",
              "      <td>1.0</td>\n",
              "      <td>0.0</td>\n",
              "      <td>1.0</td>\n",
              "      <td>0.0</td>\n",
              "      <td>0.0</td>\n",
              "      <td>1.0</td>\n",
              "      <td>0.0</td>\n",
              "    </tr>\n",
              "    <tr>\n",
              "      <th>1</th>\n",
              "      <td>0.505319</td>\n",
              "      <td>0.000000</td>\n",
              "      <td>0.223749</td>\n",
              "      <td>0.72973</td>\n",
              "      <td>1.0</td>\n",
              "      <td>0.0</td>\n",
              "      <td>1.0</td>\n",
              "      <td>0.0</td>\n",
              "      <td>1.0</td>\n",
              "      <td>1.0</td>\n",
              "      <td>...</td>\n",
              "      <td>0.0</td>\n",
              "      <td>1.0</td>\n",
              "      <td>0.0</td>\n",
              "      <td>0.0</td>\n",
              "      <td>1.0</td>\n",
              "      <td>0.0</td>\n",
              "      <td>0.0</td>\n",
              "      <td>1.0</td>\n",
              "      <td>0.0</td>\n",
              "      <td>1.0</td>\n",
              "    </tr>\n",
              "    <tr>\n",
              "      <th>2</th>\n",
              "      <td>0.431383</td>\n",
              "      <td>0.418921</td>\n",
              "      <td>0.435721</td>\n",
              "      <td>0.72973</td>\n",
              "      <td>1.0</td>\n",
              "      <td>0.0</td>\n",
              "      <td>1.0</td>\n",
              "      <td>0.0</td>\n",
              "      <td>1.0</td>\n",
              "      <td>1.0</td>\n",
              "      <td>...</td>\n",
              "      <td>0.0</td>\n",
              "      <td>0.0</td>\n",
              "      <td>1.0</td>\n",
              "      <td>1.0</td>\n",
              "      <td>0.0</td>\n",
              "      <td>0.0</td>\n",
              "      <td>0.0</td>\n",
              "      <td>1.0</td>\n",
              "      <td>0.0</td>\n",
              "      <td>1.0</td>\n",
              "    </tr>\n",
              "    <tr>\n",
              "      <th>3</th>\n",
              "      <td>1.000000</td>\n",
              "      <td>0.000000</td>\n",
              "      <td>0.518155</td>\n",
              "      <td>0.72973</td>\n",
              "      <td>1.0</td>\n",
              "      <td>0.0</td>\n",
              "      <td>1.0</td>\n",
              "      <td>1.0</td>\n",
              "      <td>0.0</td>\n",
              "      <td>1.0</td>\n",
              "      <td>...</td>\n",
              "      <td>0.0</td>\n",
              "      <td>1.0</td>\n",
              "      <td>0.0</td>\n",
              "      <td>1.0</td>\n",
              "      <td>0.0</td>\n",
              "      <td>0.0</td>\n",
              "      <td>0.0</td>\n",
              "      <td>1.0</td>\n",
              "      <td>0.0</td>\n",
              "      <td>1.0</td>\n",
              "    </tr>\n",
              "    <tr>\n",
              "      <th>4</th>\n",
              "      <td>0.933865</td>\n",
              "      <td>0.745459</td>\n",
              "      <td>1.000000</td>\n",
              "      <td>0.72973</td>\n",
              "      <td>1.0</td>\n",
              "      <td>0.0</td>\n",
              "      <td>1.0</td>\n",
              "      <td>0.0</td>\n",
              "      <td>1.0</td>\n",
              "      <td>0.0</td>\n",
              "      <td>...</td>\n",
              "      <td>0.0</td>\n",
              "      <td>1.0</td>\n",
              "      <td>0.0</td>\n",
              "      <td>0.0</td>\n",
              "      <td>1.0</td>\n",
              "      <td>0.0</td>\n",
              "      <td>0.0</td>\n",
              "      <td>1.0</td>\n",
              "      <td>0.0</td>\n",
              "      <td>1.0</td>\n",
              "    </tr>\n",
              "  </tbody>\n",
              "</table>\n",
              "<p>5 rows × 22 columns</p>\n",
              "</div>\n",
              "      <button class=\"colab-df-convert\" onclick=\"convertToInteractive('df-083852ff-405e-4b8a-a871-ed21802e2da8')\"\n",
              "              title=\"Convert this dataframe to an interactive table.\"\n",
              "              style=\"display:none;\">\n",
              "        \n",
              "  <svg xmlns=\"http://www.w3.org/2000/svg\" height=\"24px\"viewBox=\"0 0 24 24\"\n",
              "       width=\"24px\">\n",
              "    <path d=\"M0 0h24v24H0V0z\" fill=\"none\"/>\n",
              "    <path d=\"M18.56 5.44l.94 2.06.94-2.06 2.06-.94-2.06-.94-.94-2.06-.94 2.06-2.06.94zm-11 1L8.5 8.5l.94-2.06 2.06-.94-2.06-.94L8.5 2.5l-.94 2.06-2.06.94zm10 10l.94 2.06.94-2.06 2.06-.94-2.06-.94-.94-2.06-.94 2.06-2.06.94z\"/><path d=\"M17.41 7.96l-1.37-1.37c-.4-.4-.92-.59-1.43-.59-.52 0-1.04.2-1.43.59L10.3 9.45l-7.72 7.72c-.78.78-.78 2.05 0 2.83L4 21.41c.39.39.9.59 1.41.59.51 0 1.02-.2 1.41-.59l7.78-7.78 2.81-2.81c.8-.78.8-2.07 0-2.86zM5.41 20L4 18.59l7.72-7.72 1.47 1.35L5.41 20z\"/>\n",
              "  </svg>\n",
              "      </button>\n",
              "      \n",
              "  <style>\n",
              "    .colab-df-container {\n",
              "      display:flex;\n",
              "      flex-wrap:wrap;\n",
              "      gap: 12px;\n",
              "    }\n",
              "\n",
              "    .colab-df-convert {\n",
              "      background-color: #E8F0FE;\n",
              "      border: none;\n",
              "      border-radius: 50%;\n",
              "      cursor: pointer;\n",
              "      display: none;\n",
              "      fill: #1967D2;\n",
              "      height: 32px;\n",
              "      padding: 0 0 0 0;\n",
              "      width: 32px;\n",
              "    }\n",
              "\n",
              "    .colab-df-convert:hover {\n",
              "      background-color: #E2EBFA;\n",
              "      box-shadow: 0px 1px 2px rgba(60, 64, 67, 0.3), 0px 1px 3px 1px rgba(60, 64, 67, 0.15);\n",
              "      fill: #174EA6;\n",
              "    }\n",
              "\n",
              "    [theme=dark] .colab-df-convert {\n",
              "      background-color: #3B4455;\n",
              "      fill: #D2E3FC;\n",
              "    }\n",
              "\n",
              "    [theme=dark] .colab-df-convert:hover {\n",
              "      background-color: #434B5C;\n",
              "      box-shadow: 0px 1px 3px 1px rgba(0, 0, 0, 0.15);\n",
              "      filter: drop-shadow(0px 1px 2px rgba(0, 0, 0, 0.3));\n",
              "      fill: #FFFFFF;\n",
              "    }\n",
              "  </style>\n",
              "\n",
              "      <script>\n",
              "        const buttonEl =\n",
              "          document.querySelector('#df-083852ff-405e-4b8a-a871-ed21802e2da8 button.colab-df-convert');\n",
              "        buttonEl.style.display =\n",
              "          google.colab.kernel.accessAllowed ? 'block' : 'none';\n",
              "\n",
              "        async function convertToInteractive(key) {\n",
              "          const element = document.querySelector('#df-083852ff-405e-4b8a-a871-ed21802e2da8');\n",
              "          const dataTable =\n",
              "            await google.colab.kernel.invokeFunction('convertToInteractive',\n",
              "                                                     [key], {});\n",
              "          if (!dataTable) return;\n",
              "\n",
              "          const docLinkHtml = 'Like what you see? Visit the ' +\n",
              "            '<a target=\"_blank\" href=https://colab.research.google.com/notebooks/data_table.ipynb>data table notebook</a>'\n",
              "            + ' to learn more about interactive tables.';\n",
              "          element.innerHTML = '';\n",
              "          dataTable['output_type'] = 'display_data';\n",
              "          await google.colab.output.renderOutput(dataTable, element);\n",
              "          const docLink = document.createElement('div');\n",
              "          docLink.innerHTML = docLinkHtml;\n",
              "          element.appendChild(docLink);\n",
              "        }\n",
              "      </script>\n",
              "    </div>\n",
              "  </div>\n",
              "  "
            ]
          },
          "metadata": {},
          "execution_count": 635
        }
      ]
    },
    {
      "cell_type": "code",
      "source": [
        "corr_matrix = data.corr()\n",
        "\n",
        "sns.heatmap(corr_matrix ,annot=False , cmap='coolwarm', vmin=-1 , vmax=1)\n",
        "plt.title('correlation matrix')\n",
        "plt.show()"
      ],
      "metadata": {
        "colab": {
          "base_uri": "https://localhost:8080/",
          "height": 619
        },
        "id": "fzwQWua-mCxr",
        "outputId": "c53c4dc5-c3cb-4501-a32a-6efea817cc21"
      },
      "execution_count": null,
      "outputs": [
        {
          "output_type": "display_data",
          "data": {
            "text/plain": [
              "<Figure size 640x480 with 2 Axes>"
            ],
            "image/png": "[encoded data removed]"
          },
          "metadata": {}
        }
      ]
    },
    {
      "cell_type": "code",
      "source": [
        "corr_matrix = data.corr(method='pearson')[['Loan_Status_Y']]\n",
        "print(corr_matrix)"
      ],
      "metadata": {
        "colab": {
          "base_uri": "https://localhost:8080/"
        },
        "id": "f30Fxd0i5dJu",
        "outputId": "7525f372-5f68-4dcf-d2a2-b5f5cbff5fd6"
      },
      "execution_count": null,
      "outputs": [
        {
          "output_type": "stream",
          "name": "stdout",
          "text": [
            "                         Loan_Status_Y\n",
            "CoapplicantIncome             0.019558\n",
            "LoanAmount                   -0.033282\n",
            "Loan_Amount_Term             -0.029927\n",
            "Credit_History                0.564243\n",
            "Gender_Female                -0.046532\n",
            "Married_Yes                   0.090845\n",
            "Dependents_1                 -0.024337\n",
            "Dependents_2                  0.059734\n",
            "Dependents_3+                 0.004525\n",
            "Education_Graduate            0.083204\n",
            "Property_Area_Rural          -0.109382\n",
            "Property_Area_Semiurban       0.146611\n",
            "Property_Area_Urban          -0.046750\n",
            "Loan_Status_Y                 1.000000\n"
          ]
        }
      ]
    },
    {
      "cell_type": "code",
      "source": [
        "data= data.drop(['ApplicantIncome'],axis=1)\n",
        "data= data.drop(['Dependents_0'],axis=1)\n",
        "data= data.drop(['Self_Employed_Yes'],axis=1)"
      ],
      "metadata": {
        "id": "frd84d4v6Q0Z"
      },
      "execution_count": null,
      "outputs": []
    },
    {
      "cell_type": "code",
      "source": [
        "data= data.drop(['Gender_Male'],axis=1)\n",
        "data= data.drop(['Education_Not Graduate'],axis=1)\n",
        "data= data.drop(['Loan_Status_N'],axis=1)\n",
        "data=data.drop(['Self_Employed_No'],axis=1)\n",
        "data=data.drop(['Married_No'],axis=1)"
      ],
      "metadata": {
        "id": "Scs1DijCnDzI"
      },
      "execution_count": null,
      "outputs": []
    },
    {
      "cell_type": "code",
      "source": [
        "corr_matrix = data.corr()\n",
        "\n",
        "sns.heatmap(corr_matrix ,annot=False , cmap='coolwarm', vmin=-1 , vmax=1)\n",
        "plt.title('correlation matrix')\n",
        "plt.show()"
      ],
      "metadata": {
        "colab": {
          "base_uri": "https://localhost:8080/",
          "height": 619
        },
        "id": "mUET2msan1xe",
        "outputId": "d165dfa6-9280-4dbd-c96b-85c659833d60"
      },
      "execution_count": null,
      "outputs": [
        {
          "output_type": "display_data",
          "data": {
            "text/plain": [
              "<Figure size 640x480 with 2 Axes>"
            ],
            "image/png": "[encoded data removed]"
          },
          "metadata": {}
        }
      ]
    },
    {
      "cell_type": "code",
      "source": [
        "\n",
        "'''from sklearn.feature_selection import SelectKBest\n",
        "from sklearn.feature_selection import chi2\n",
        "\n",
        "# Separate the feature variables (X) and the target variable (y)\n",
        "X = data.drop('Loan_Status_Y', axis=1)\n",
        "y = data['Loan_Status_Y']\n",
        "\n",
        "# Apply SelectKBest class to find the best features\n",
        "best_features = SelectKBest(score_func=chi2)\n",
        "fit = best_features.fit(X, y)\n",
        "\n",
        "# Print the scores for each feature\n",
        "scores = pd.DataFrame({'Feature': X.columns, 'Score': fit.scores_})\n",
        "print(scores)\n",
        "\n",
        "# Get the k best features\n",
        "top_features = X.columns[fit.get_support(indices=True)]\n",
        "print(top_features)'''"
      ],
      "metadata": {
        "colab": {
          "base_uri": "https://localhost:8080/"
        },
        "id": "4g9Qkt9FTKoe",
        "outputId": "537fba6d-63b7-4a26-dd32-0b78393d9237"
      },
      "execution_count": null,
      "outputs": [
        {
          "output_type": "stream",
          "name": "stdout",
          "text": [
            "                    Feature      Score\n",
            "0         CoapplicantIncome   0.067344\n",
            "1                LoanAmount   0.059160\n",
            "2          Loan_Amount_Term   0.014632\n",
            "3            Credit_History  27.061445\n",
            "4             Gender_Female   0.963524\n",
            "5               Married_Yes   1.592801\n",
            "6              Dependents_1   0.270685\n",
            "7              Dependents_2   1.609210\n",
            "8             Dependents_3+   0.010175\n",
            "9        Education_Graduate   0.789216\n",
            "10      Property_Area_Rural   4.594344\n",
            "11  Property_Area_Semiurban   7.114778\n",
            "12      Property_Area_Urban   0.810837\n",
            "Index(['CoapplicantIncome', 'Credit_History', 'Gender_Female', 'Married_Yes',\n",
            "       'Dependents_1', 'Dependents_2', 'Education_Graduate',\n",
            "       'Property_Area_Rural', 'Property_Area_Semiurban',\n",
            "       'Property_Area_Urban'],\n",
            "      dtype='object')\n"
          ]
        }
      ]
    },
    {
      "cell_type": "code",
      "source": [
        "'''from sklearn.feature_selection import mutual_info_classif\n",
        "\n",
        "# Separate the feature variables (X) and the target variable (y)\n",
        "X = data.drop('Loan_Status_Y', axis=1)\n",
        "y = data['Loan_Status_Y']\n",
        "\n",
        "# Calculate the information gain for each feature\n",
        "information_gains = mutual_info_classif(X, y)\n",
        "\n",
        "# Print the information gain values for each feature\n",
        "for feature, gain in zip(X.columns, information_gains):\n",
        "    print(f\"Information gain of {feature}: {gain}\")'''\n"
      ],
      "metadata": {
        "colab": {
          "base_uri": "https://localhost:8080/"
        },
        "id": "OctHIiB0aiUL",
        "outputId": "83312790-d1ee-4712-ea15-8d530e615843"
      },
      "execution_count": null,
      "outputs": [
        {
          "output_type": "stream",
          "name": "stdout",
          "text": [
            "Information gain of CoapplicantIncome: 0.0\n",
            "Information gain of LoanAmount: 0.0\n",
            "Information gain of Loan_Amount_Term: 0.0\n",
            "Information gain of Credit_History: 0.13752074751922327\n",
            "Information gain of Gender_Female: 0.0\n",
            "Information gain of Married_Yes: 0.0\n",
            "Information gain of Dependents_1: 0.0\n",
            "Information gain of Dependents_2: 0.019525039700376556\n",
            "Information gain of Dependents_3+: 0.0\n",
            "Information gain of Education_Graduate: 0.0\n",
            "Information gain of Property_Area_Rural: 0.01505259053769259\n",
            "Information gain of Property_Area_Semiurban: 0.030158591196960627\n",
            "Information gain of Property_Area_Urban: 0.0\n"
          ]
        }
      ]
    },
    {
      "cell_type": "markdown",
      "source": [
        "Logistic Regression"
      ],
      "metadata": {
        "id": "nlKuRd2AOVkU"
      }
    },
    {
      "cell_type": "code",
      "source": [
        "from sklearn.model_selection import train_test_split\n",
        "from sklearn.linear_model import LogisticRegression\n",
        "from sklearn.metrics import confusion_matrix, classification_report\n",
        "\n",
        "# Split the dataset into features and target variable\n",
        "X = data.drop(\"Loan_Status_Y\", axis=1)\n",
        "y = data[\"Loan_Status_Y\"]\n",
        "\n",
        "# Split the dataset into training and test sets\n",
        "X_train, X_test, y_train, y_test = train_test_split(X, y, test_size=0.2, random_state=42)\n",
        "\n",
        "# Create a logistic regression model\n",
        "model = LogisticRegression()\n",
        "\n",
        "# Fit the model to the training data\n",
        "model.fit(X_train, y_train)\n",
        "\n",
        "# Predict using the trained model\n",
        "y_pred = model.predict(X_test)\n",
        "\n",
        "# Calculate acuuracy\n",
        "accuracy = accuracy_score(y_test, y_pred)\n",
        "print (f\"Logistic regression accuracy : {accuracy}\")\n",
        "\n",
        "\n",
        "\n",
        "\n"
      ],
      "metadata": {
        "colab": {
          "base_uri": "https://localhost:8080/"
        },
        "id": "skRbOOuUqFwO",
        "outputId": "4b0f0dd0-80a8-4cf6-bd09-2b174ffdbbba"
      },
      "execution_count": null,
      "outputs": [
        {
          "output_type": "stream",
          "name": "stdout",
          "text": [
            "Logistic regression accuracy : 0.8440366972477065\n"
          ]
        }
      ]
    },
    {
      "cell_type": "code",
      "source": [
        "cm = confusion_matrix(y_test, y_pred)\n",
        "\n",
        "# Visualize the confusion matrix as a heatmap\n",
        "sns.heatmap(cm, annot=True, fmt='d', cmap='pink')\n",
        "plt.xlabel('Predicted')\n",
        "plt.ylabel('Actual')\n",
        "plt.show()"
      ],
      "metadata": {
        "colab": {
          "base_uri": "https://localhost:8080/",
          "height": 449
        },
        "id": "BXInU7D4rm2k",
        "outputId": "93641ba1-0d58-4931-9745-cc52c56997a2"
      },
      "execution_count": null,
      "outputs": [
        {
          "output_type": "display_data",
          "data": {
            "text/plain": [
              "<Figure size 640x480 with 2 Axes>"
            ],
            "image/png": "[encoded data removed]"
          },
          "metadata": {}
        }
      ]
    },
    {
      "cell_type": "code",
      "source": [
        "\n",
        "report = classification_report(y_test, y_pred)\n",
        "print(report)\n"
      ],
      "metadata": {
        "colab": {
          "base_uri": "https://localhost:8080/"
        },
        "id": "qJ7SU0IUKHfD",
        "outputId": "68948316-a5d6-47cd-c2ea-a390c9314069"
      },
      "execution_count": null,
      "outputs": [
        {
          "output_type": "stream",
          "name": "stdout",
          "text": [
            "              precision    recall  f1-score   support\n",
            "\n",
            "         0.0       0.92      0.61      0.73        38\n",
            "         1.0       0.82      0.97      0.89        71\n",
            "\n",
            "    accuracy                           0.84       109\n",
            "   macro avg       0.87      0.79      0.81       109\n",
            "weighted avg       0.86      0.84      0.83       109\n",
            "\n"
          ]
        }
      ]
    },
    {
      "cell_type": "code",
      "source": [
        "from sklearn.metrics import mean_squared_error\n",
        "mse = mean_squared_error(y_test, y_pred)\n",
        "print(f\"logistic regrisson error : {mse}\" )"
      ],
      "metadata": {
        "colab": {
          "base_uri": "https://localhost:8080/"
        },
        "id": "JWu2a2ajJLf4",
        "outputId": "f624be68-4f4e-47a2-91de-7a1c078b6182"
      },
      "execution_count": null,
      "outputs": [
        {
          "output_type": "stream",
          "name": "stdout",
          "text": [
            "logistic regrisson error : 0.1559633027522936\n"
          ]
        }
      ]
    },
    {
      "cell_type": "markdown",
      "source": [
        "Svm"
      ],
      "metadata": {
        "id": "XMEtAbEYOeXI"
      }
    },
    {
      "cell_type": "code",
      "source": [
        "from sklearn.svm import SVC\n",
        "\n",
        "X_train, X_test, y_train, y_test = train_test_split(X, y, test_size=0.2, random_state=42)\n",
        "\n",
        "svm_classifier = SVC()\n",
        "\n",
        "svm_classifier.fit(X_train, y_train)\n",
        "\n",
        "y_pred = svm_classifier.predict(X_test)\n",
        "\n",
        "accuracy = accuracy_score(y_test, y_pred)\n",
        "print(f\"svm accuracy :{accuracy}\")\n",
        "\n"
      ],
      "metadata": {
        "colab": {
          "base_uri": "https://localhost:8080/"
        },
        "id": "FQ43-6gLys2X",
        "outputId": "7c18d1d1-05a8-4794-ca0e-b0f24c3fc904"
      },
      "execution_count": null,
      "outputs": [
        {
          "output_type": "stream",
          "name": "stdout",
          "text": [
            "svm accuracy :0.8440366972477065\n"
          ]
        }
      ]
    },
    {
      "cell_type": "code",
      "source": [
        "cm = confusion_matrix(y_test, y_pred)\n",
        "\n",
        "\n",
        "# Visualize the confusion matrix as a heatmap\n",
        "sns.heatmap(cm, annot=True, fmt='d', cmap='pink')\n",
        "plt.xlabel('Predicted')\n",
        "plt.ylabel('Actual')\n",
        "plt.show()"
      ],
      "metadata": {
        "colab": {
          "base_uri": "https://localhost:8080/",
          "height": 455
        },
        "id": "Qyf5DHhSKx1c",
        "outputId": "d2eb951a-6559-48c7-8872-566672980416"
      },
      "execution_count": null,
      "outputs": [
        {
          "output_type": "display_data",
          "data": {
            "text/plain": [
              "<Figure size 640x480 with 2 Axes>"
            ],
            "image/png": "[encoded data removed]"
          },
          "metadata": {}
        }
      ]
    },
    {
      "cell_type": "code",
      "source": [
        "mse = mean_squared_error(y_test, y_pred)\n",
        "print(f\"svm error :{mse}\")\n"
      ],
      "metadata": {
        "colab": {
          "base_uri": "https://localhost:8080/"
        },
        "id": "wGjP6i21VBBA",
        "outputId": "6d756a18-a347-4312-9541-0b130279822f"
      },
      "execution_count": null,
      "outputs": [
        {
          "output_type": "stream",
          "name": "stdout",
          "text": [
            "svm error :0.13479387177321364\n"
          ]
        }
      ]
    },
    {
      "cell_type": "markdown",
      "source": [
        "Decision Tree"
      ],
      "metadata": {
        "id": "Ty5Ea3cDOlD8"
      }
    },
    {
      "cell_type": "code",
      "source": [
        "from sklearn.tree import DecisionTreeClassifier\n",
        "\n",
        "X_train, X_test, y_train, y_test = train_test_split(X, y, test_size=0.2, random_state=20)\n",
        "\n",
        "decision_tree = DecisionTreeClassifier( max_depth= 1 )\n",
        "\n",
        "decision_tree.fit(X_train, y_train)\n",
        "\n",
        "y_pred = decision_tree.predict(X_test)\n",
        "\n",
        "accuracy = accuracy_score(y_test, y_pred)\n",
        "print (f\"Decition tree accurac:{accuracy}\")"
      ],
      "metadata": {
        "colab": {
          "base_uri": "https://localhost:8080/"
        },
        "id": "Dbbz_fzBwoXE",
        "outputId": "938c05dd-1b3e-4c1e-9b7b-7419d3c29f58"
      },
      "execution_count": null,
      "outputs": [
        {
          "output_type": "stream",
          "name": "stdout",
          "text": [
            "Decition tree accurac:0.8256880733944955\n"
          ]
        }
      ]
    },
    {
      "cell_type": "code",
      "source": [
        "cm = confusion_matrix(y_test, y_pred)\n",
        "\n",
        "\n",
        "# Visualize the confusion matrix as a heatmap\n",
        "sns.heatmap(cm, annot=True, fmt='d', cmap='pink')\n",
        "plt.xlabel('Predicted')\n",
        "plt.ylabel('Actual')\n",
        "plt.show()"
      ],
      "metadata": {
        "colab": {
          "base_uri": "https://localhost:8080/",
          "height": 455
        },
        "id": "y2wDuEopK5-2",
        "outputId": "fd09b74b-1592-4ee7-eb25-750c89842cfd"
      },
      "execution_count": null,
      "outputs": [
        {
          "output_type": "display_data",
          "data": {
            "text/plain": [
              "<Figure size 640x480 with 2 Axes>"
            ],
            "image/png": "[encoded data removed]"
          },
          "metadata": {}
        }
      ]
    },
    {
      "cell_type": "code",
      "source": [
        "mse = mean_squared_error(y_test, y_pred)\n",
        "print(f\"Dicision tree error : {mse}\")"
      ],
      "metadata": {
        "colab": {
          "base_uri": "https://localhost:8080/"
        },
        "id": "HDx0PlwmWc9A",
        "outputId": "52bdd067-6283-4ebc-c2d5-3e98b0c128e0"
      },
      "execution_count": null,
      "outputs": [
        {
          "output_type": "stream",
          "name": "stdout",
          "text": [
            "Dicision tree error : 0.14302669806649576\n"
          ]
        }
      ]
    },
    {
      "cell_type": "markdown",
      "source": [
        "Random forset\n"
      ],
      "metadata": {
        "id": "TMaWN5RfO7Oa"
      }
    },
    {
      "cell_type": "code",
      "source": [
        "from sklearn.ensemble import RandomForestClassifier\n",
        "\n",
        "X_train, X_test, y_train, y_test = train_test_split(X, y, test_size=0.2, random_state=20)\n",
        "\n",
        "random_forest = RandomForestClassifier()\n",
        "\n",
        "random_forest.fit(X_train, y_train)\n",
        "\n",
        "y_pred = random_forest.predict(X_test)\n",
        "\n",
        "accuracy = accuracy_score(y_test, y_pred)\n",
        "print(f\"random forset :{accuracy}\")"
      ],
      "metadata": {
        "colab": {
          "base_uri": "https://localhost:8080/"
        },
        "id": "bKHMOZt0xIL9",
        "outputId": "9d860ef1-19ff-4b11-fb2d-be3fd872af8f"
      },
      "execution_count": null,
      "outputs": [
        {
          "output_type": "stream",
          "name": "stdout",
          "text": [
            "random forset :0.8440366972477065\n"
          ]
        }
      ]
    },
    {
      "cell_type": "code",
      "source": [
        "cm = confusion_matrix(y_test, y_pred)\n",
        "\n",
        "\n",
        "# Visualize the confusion matrix as a heatmap\n",
        "sns.heatmap(cm, annot=True, fmt='d', cmap='pink')\n",
        "plt.xlabel('Predicted')\n",
        "plt.ylabel('Actual')\n",
        "plt.show()"
      ],
      "metadata": {
        "colab": {
          "base_uri": "https://localhost:8080/",
          "height": 449
        },
        "id": "PxPwGRmOLO7g",
        "outputId": "dc4d0e57-f563-4713-ba90-e2a43d703497"
      },
      "execution_count": null,
      "outputs": [
        {
          "output_type": "display_data",
          "data": {
            "text/plain": [
              "<Figure size 640x480 with 2 Axes>"
            ],
            "image/png": "[encoded data removed]"
          },
          "metadata": {}
        }
      ]
    },
    {
      "cell_type": "code",
      "source": [
        "mse = mean_squared_error(y_test, y_pred)\n",
        "print(\"Mean Squared Error:\", mse)"
      ],
      "metadata": {
        "colab": {
          "base_uri": "https://localhost:8080/"
        },
        "id": "C6SCq0GLpNrP",
        "outputId": "87c301f6-cd8e-44ce-a588-217de90f43ce"
      },
      "execution_count": null,
      "outputs": [
        {
          "output_type": "stream",
          "name": "stdout",
          "text": [
            "Mean Squared Error: 0.1559633027522936\n"
          ]
        }
      ]
    }
  ],
  "metadata": {
    "colab": {
      "provenance": []
    },
    "kernelspec": {
      "display_name": "Python 3",
      "name": "python3"
    },
    "language_info": {
      "name": "python"
    }
  },
  "nbformat": 4,
  "nbformat_minor": 0
}